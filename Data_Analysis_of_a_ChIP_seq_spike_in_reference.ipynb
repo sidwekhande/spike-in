{
  "nbformat": 4,
  "nbformat_minor": 0,
  "metadata": {
    "colab": {
      "name": "Data Analysis of a ChIP-seq spike-in reference",
      "version": "0.3.2",
      "provenance": [],
      "include_colab_link": true
    },
    "kernelspec": {
      "name": "python3",
      "display_name": "Python 3"
    }
  },
  "cells": [
    {
      "cell_type": "markdown",
      "metadata": {
        "id": "view-in-github",
        "colab_type": "text"
      },
      "source": [
        "<a href=\"https://colab.research.google.com/github/sidwekhande/spike-in/blob/master/Data_Analysis_of_a_ChIP_seq_spike_in_reference.ipynb\" target=\"_parent\"><img src=\"https://colab.research.google.com/assets/colab-badge.svg\" alt=\"Open In Colab\"/></a>"
      ]
    },
    {
      "metadata": {
        "id": "2-VJb-tudVec",
        "colab_type": "text"
      },
      "cell_type": "markdown",
      "source": [
        "# Data Analysis of a ChIP-seq spike-in \n",
        "\n",
        "\n",
        "---\n",
        "\n",
        "\n",
        "\n",
        "###Background\n",
        "Comparing peak-calls across multiple ChIP-seq experiments testing for different conditions is difficult, primarily because the traditional methods of RPKM, TPKM or other nomralization factors depend on the total read count of the experiment, which can vary across biological experiments. To overcome this problem, Guertin et. al. (2018) suggested using a reference spike-in, i.e., a second antibody that will give a read count proportion that is known to not change across conditions to use it as a reference for how much the first protein (target) changed.\n",
        "\n",
        "<br>\n",
        "\n",
        "---\n",
        "\n",
        "###Goal\n",
        "\n",
        "To test this, we have a set of ChIP-seq experiments that mix H3K27me3 and CTCF antibodies in varying proportions (1:20, 1:10, 1:5, and 1:1). These four experiments can be used to see if we can detect the same CTCF read count proportion in the different experiments. This can assess if the antibody efficiency is consistent, and also serves as a good analysis of how much CTCF we should use for spike-in when testing for H3K7me3 changes across condition.\n",
        "\n",
        "<br>\n",
        "\n"
      ]
    },
    {
      "metadata": {
        "id": "0RAutMabf3SM",
        "colab_type": "text"
      },
      "cell_type": "markdown",
      "source": [
        "## Data Preprocessing\n",
        "\n",
        "---\n",
        "\n",
        "We have five ChIP-seq experiments:\n",
        "\n",
        "\n",
        "1.   H3K27me3:CTCF (20:1) [Total Tag Count =  28,288,343]\n",
        "2.   H3K27me3:CTCF (10:1) [Total Tag Count = 22,957,508]\n",
        "1.   H3K27me3:CTCF (5:1) [Total Tag Count = 25,365,150]\n",
        "2.   H3K27me3:CTCF (1:1) [Total Tag Count = 24,745,421]\n",
        "3.   CTCF [Total Tag Count = 25,493,952]\n",
        "\n",
        "\n",
        "I aligned the reads using bowtie2 and used MACS2 on Galaxy to call peaks on the pure CTCF experiment [bed file] . This gives us the expected binding location of CTCF in all these experiments. \n",
        "\n",
        "I then used samtools bedcov to get the number of read counts at these positions in all the above experiments.\n",
        "\n",
        "\n",
        "```\n",
        "samtools bedcov [CTCF Peak calls BED] [INPUT BAM1] > [OUTPUT]\n",
        "```\n",
        "\n",
        "The files have the readcounts at expected CTCF binding positions. The normalized counts at these positions should be consistent in each experiment.\n"
      ]
    },
    {
      "metadata": {
        "id": "nc7gqIQo25IE",
        "colab_type": "code",
        "outputId": "c968b6b7-b77f-42bc-824a-789b1db73c26",
        "colab": {
          "base_uri": "https://localhost:8080/",
          "height": 261
        }
      },
      "cell_type": "code",
      "source": [
        "#Making sure we have latest seaborn installed\n",
        "!python -m pip install --upgrade seaborn==0.9.0\n"
      ],
      "execution_count": 5,
      "outputs": [
        {
          "output_type": "stream",
          "text": [
            "Requirement already up-to-date: seaborn==0.9.0 in /usr/local/lib/python3.6/dist-packages (0.9.0)\n",
            "Requirement already satisfied, skipping upgrade: scipy>=0.14.0 in /usr/local/lib/python3.6/dist-packages (from seaborn==0.9.0) (1.2.1)\n",
            "Requirement already satisfied, skipping upgrade: numpy>=1.9.3 in /usr/local/lib/python3.6/dist-packages (from seaborn==0.9.0) (1.16.2)\n",
            "Requirement already satisfied, skipping upgrade: pandas>=0.15.2 in /usr/local/lib/python3.6/dist-packages (from seaborn==0.9.0) (0.23.4)\n",
            "Requirement already satisfied, skipping upgrade: matplotlib>=1.4.3 in /usr/local/lib/python3.6/dist-packages (from seaborn==0.9.0) (3.0.3)\n",
            "Requirement already satisfied, skipping upgrade: python-dateutil>=2.5.0 in /usr/local/lib/python3.6/dist-packages (from pandas>=0.15.2->seaborn==0.9.0) (2.5.3)\n",
            "Requirement already satisfied, skipping upgrade: pytz>=2011k in /usr/local/lib/python3.6/dist-packages (from pandas>=0.15.2->seaborn==0.9.0) (2018.9)\n",
            "Requirement already satisfied, skipping upgrade: pyparsing!=2.0.4,!=2.1.2,!=2.1.6,>=2.0.1 in /usr/local/lib/python3.6/dist-packages (from matplotlib>=1.4.3->seaborn==0.9.0) (2.4.0)\n",
            "Requirement already satisfied, skipping upgrade: kiwisolver>=1.0.1 in /usr/local/lib/python3.6/dist-packages (from matplotlib>=1.4.3->seaborn==0.9.0) (1.0.1)\n",
            "Requirement already satisfied, skipping upgrade: cycler>=0.10 in /usr/local/lib/python3.6/dist-packages (from matplotlib>=1.4.3->seaborn==0.9.0) (0.10.0)\n",
            "Requirement already satisfied, skipping upgrade: six>=1.5 in /usr/local/lib/python3.6/dist-packages (from python-dateutil>=2.5.0->pandas>=0.15.2->seaborn==0.9.0) (1.11.0)\n",
            "Requirement already satisfied, skipping upgrade: setuptools in /usr/local/lib/python3.6/dist-packages (from kiwisolver>=1.0.1->matplotlib>=1.4.3->seaborn==0.9.0) (40.9.0)\n"
          ],
          "name": "stdout"
        }
      ]
    },
    {
      "metadata": {
        "id": "BBhGbNoBGGQw",
        "colab_type": "code",
        "colab": {}
      },
      "cell_type": "code",
      "source": [
        "import pandas as pd\n",
        "import seaborn as sns\n",
        "import matplotlib.pyplot as plt\n",
        "import numpy as np\n",
        "import math\n",
        "from scipy import stats\n",
        "import warnings\n",
        "warnings.filterwarnings('ignore')"
      ],
      "execution_count": 0,
      "outputs": []
    },
    {
      "metadata": {
        "id": "5NX7skPbt3bF",
        "colab_type": "code",
        "outputId": "fbddcece-f2a4-4386-bd5a-fcfff756b063",
        "colab": {
          "resources": {
            "http://localhost:8080/nbextensions/google.colab/files.js": {
              "data": "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",
              "ok": true,
              "headers": [
                [
                  "content-type",
                  "application/javascript"
                ]
              ],
              "status": 200,
              "status_text": "OK"
            }
          },
          "base_uri": "https://localhost:8080/",
          "height": 255
        }
      },
      "cell_type": "code",
      "source": [
        "from google.colab import files\n",
        "uploaded = files.upload()\n"
      ],
      "execution_count": 2,
      "outputs": [
        {
          "output_type": "display_data",
          "data": {
            "text/html": [
              "\n",
              "     <input type=\"file\" id=\"files-b3f473d1-f856-4084-9d3a-7754fadbc8f7\" name=\"files[]\" multiple disabled />\n",
              "     <output id=\"result-b3f473d1-f856-4084-9d3a-7754fadbc8f7\">\n",
              "      Upload widget is only available when the cell has been executed in the\n",
              "      current browser session. Please rerun this cell to enable.\n",
              "      </output>\n",
              "      <script src=\"/nbextensions/google.colab/files.js\"></script> "
            ],
            "text/plain": [
              "<IPython.core.display.HTML object>"
            ]
          },
          "metadata": {
            "tags": []
          }
        },
        {
          "output_type": "stream",
          "text": [
            "Saving HM_CTCF_20_1.tabular to HM_CTCF_20_1.tabular\n",
            "Saving HM_CTCF_5_1.tabular to HM_CTCF_5_1.tabular\n",
            "Saving HM_CTCF_1_1.tabular to HM_CTCF_1_1.tabular\n",
            "Saving HM_CTCF_10_1.tabular to HM_CTCF_10_1.tabular\n",
            "Saving CTCF_rc.tabular to CTCF_rc.tabular\n",
            "Saving HM.tabular to HM.tabular\n"
          ],
          "name": "stdout"
        }
      ]
    },
    {
      "metadata": {
        "id": "1xhM7FmJyAxC",
        "colab_type": "code",
        "outputId": "41197f51-807f-454b-aec6-0670baf2a6b5",
        "colab": {
          "base_uri": "https://localhost:8080/",
          "height": 206
        }
      },
      "cell_type": "code",
      "source": [
        "import io\n",
        "\n",
        "#importing read counts from CTCF experiment\n",
        "ctcf_rc = pd.read_csv(io.BytesIO(uploaded['CTCF_rc.tabular']),\"\\t\", header = None)\n",
        "ctcf_rc.columns = [\"chr\", \"Start\", \"End\", \"Name\",\"Score\",\"Strand\",\"ThickStart\",\"ThinEnd\",\"ItemRGB\",\"BlockCount\",\"ReadCounts\"]\n",
        "ctcf_rc.head()"
      ],
      "execution_count": 71,
      "outputs": [
        {
          "output_type": "execute_result",
          "data": {
            "text/html": [
              "<div>\n",
              "<style scoped>\n",
              "    .dataframe tbody tr th:only-of-type {\n",
              "        vertical-align: middle;\n",
              "    }\n",
              "\n",
              "    .dataframe tbody tr th {\n",
              "        vertical-align: top;\n",
              "    }\n",
              "\n",
              "    .dataframe thead th {\n",
              "        text-align: right;\n",
              "    }\n",
              "</style>\n",
              "<table border=\"1\" class=\"dataframe\">\n",
              "  <thead>\n",
              "    <tr style=\"text-align: right;\">\n",
              "      <th></th>\n",
              "      <th>chr</th>\n",
              "      <th>Start</th>\n",
              "      <th>End</th>\n",
              "      <th>Name</th>\n",
              "      <th>Score</th>\n",
              "      <th>Strand</th>\n",
              "      <th>ThickStart</th>\n",
              "      <th>ThinEnd</th>\n",
              "      <th>ItemRGB</th>\n",
              "      <th>BlockCount</th>\n",
              "      <th>ReadCounts</th>\n",
              "    </tr>\n",
              "  </thead>\n",
              "  <tbody>\n",
              "    <tr>\n",
              "      <th>0</th>\n",
              "      <td>chr1</td>\n",
              "      <td>3325377</td>\n",
              "      <td>3325520</td>\n",
              "      <td>EB_4hRA_-_CTCF_bam_peak_1</td>\n",
              "      <td>127</td>\n",
              "      <td>.</td>\n",
              "      <td>8.00295</td>\n",
              "      <td>15.29251</td>\n",
              "      <td>12.78554</td>\n",
              "      <td>77</td>\n",
              "      <td>3007</td>\n",
              "    </tr>\n",
              "    <tr>\n",
              "      <th>1</th>\n",
              "      <td>chr1</td>\n",
              "      <td>3448209</td>\n",
              "      <td>3448397</td>\n",
              "      <td>EB_4hRA_-_CTCF_bam_peak_2</td>\n",
              "      <td>258</td>\n",
              "      <td>.</td>\n",
              "      <td>12.82895</td>\n",
              "      <td>28.54597</td>\n",
              "      <td>25.82700</td>\n",
              "      <td>102</td>\n",
              "      <td>3617</td>\n",
              "    </tr>\n",
              "    <tr>\n",
              "      <th>2</th>\n",
              "      <td>chr1</td>\n",
              "      <td>3611304</td>\n",
              "      <td>3611552</td>\n",
              "      <td>EB_4hRA_-_CTCF_bam_peak_3</td>\n",
              "      <td>312</td>\n",
              "      <td>.</td>\n",
              "      <td>14.43074</td>\n",
              "      <td>33.99889</td>\n",
              "      <td>31.20519</td>\n",
              "      <td>121</td>\n",
              "      <td>6011</td>\n",
              "    </tr>\n",
              "    <tr>\n",
              "      <th>3</th>\n",
              "      <td>chr1</td>\n",
              "      <td>3841405</td>\n",
              "      <td>3841606</td>\n",
              "      <td>EB_4hRA_-_CTCF_bam_peak_4</td>\n",
              "      <td>112</td>\n",
              "      <td>.</td>\n",
              "      <td>7.62313</td>\n",
              "      <td>13.70331</td>\n",
              "      <td>11.22671</td>\n",
              "      <td>110</td>\n",
              "      <td>2409</td>\n",
              "    </tr>\n",
              "    <tr>\n",
              "      <th>4</th>\n",
              "      <td>chr1</td>\n",
              "      <td>4142530</td>\n",
              "      <td>4142942</td>\n",
              "      <td>EB_4hRA_-_CTCF_bam_peak_5</td>\n",
              "      <td>884</td>\n",
              "      <td>.</td>\n",
              "      <td>21.95743</td>\n",
              "      <td>92.10209</td>\n",
              "      <td>88.45210</td>\n",
              "      <td>185</td>\n",
              "      <td>13289</td>\n",
              "    </tr>\n",
              "  </tbody>\n",
              "</table>\n",
              "</div>"
            ],
            "text/plain": [
              "    chr    Start      End                       Name  Score Strand  \\\n",
              "0  chr1  3325377  3325520  EB_4hRA_-_CTCF_bam_peak_1    127      .   \n",
              "1  chr1  3448209  3448397  EB_4hRA_-_CTCF_bam_peak_2    258      .   \n",
              "2  chr1  3611304  3611552  EB_4hRA_-_CTCF_bam_peak_3    312      .   \n",
              "3  chr1  3841405  3841606  EB_4hRA_-_CTCF_bam_peak_4    112      .   \n",
              "4  chr1  4142530  4142942  EB_4hRA_-_CTCF_bam_peak_5    884      .   \n",
              "\n",
              "   ThickStart   ThinEnd   ItemRGB  BlockCount  ReadCounts  \n",
              "0     8.00295  15.29251  12.78554          77        3007  \n",
              "1    12.82895  28.54597  25.82700         102        3617  \n",
              "2    14.43074  33.99889  31.20519         121        6011  \n",
              "3     7.62313  13.70331  11.22671         110        2409  \n",
              "4    21.95743  92.10209  88.45210         185       13289  "
            ]
          },
          "metadata": {
            "tags": []
          },
          "execution_count": 71
        }
      ]
    },
    {
      "metadata": {
        "id": "I43CMjpm0UL0",
        "colab_type": "text"
      },
      "cell_type": "markdown",
      "source": [
        "####As you can see here, we have a columns that will not be required for our analysis. We can drop these columns in the above dataframe and ignore to import these columns in our other dataframes."
      ]
    },
    {
      "metadata": {
        "id": "f74WsGEFzwaO",
        "colab_type": "code",
        "outputId": "f5ea75ba-e699-4c19-ed45-35a27a244267",
        "colab": {
          "base_uri": "https://localhost:8080/",
          "height": 206
        }
      },
      "cell_type": "code",
      "source": [
        "#drop columns\n",
        "ctcf_rc.drop(columns=[\"Name\",\"Score\",\"Strand\",\"ThickStart\",\"ThinEnd\",\"ItemRGB\",\"BlockCount\"],axis =1,inplace=True)\n",
        "\n",
        "#deduplicate reads\n",
        "ctcf_rc[\"ReadCounts\"] = ctcf_rc[\"ReadCounts\"]/(ctcf_rc[\"End\"] - ctcf_rc[\"Start\"])\n",
        "ctcf_rc.head()"
      ],
      "execution_count": 72,
      "outputs": [
        {
          "output_type": "execute_result",
          "data": {
            "text/html": [
              "<div>\n",
              "<style scoped>\n",
              "    .dataframe tbody tr th:only-of-type {\n",
              "        vertical-align: middle;\n",
              "    }\n",
              "\n",
              "    .dataframe tbody tr th {\n",
              "        vertical-align: top;\n",
              "    }\n",
              "\n",
              "    .dataframe thead th {\n",
              "        text-align: right;\n",
              "    }\n",
              "</style>\n",
              "<table border=\"1\" class=\"dataframe\">\n",
              "  <thead>\n",
              "    <tr style=\"text-align: right;\">\n",
              "      <th></th>\n",
              "      <th>chr</th>\n",
              "      <th>Start</th>\n",
              "      <th>End</th>\n",
              "      <th>ReadCounts</th>\n",
              "    </tr>\n",
              "  </thead>\n",
              "  <tbody>\n",
              "    <tr>\n",
              "      <th>0</th>\n",
              "      <td>chr1</td>\n",
              "      <td>3325377</td>\n",
              "      <td>3325520</td>\n",
              "      <td>21.027972</td>\n",
              "    </tr>\n",
              "    <tr>\n",
              "      <th>1</th>\n",
              "      <td>chr1</td>\n",
              "      <td>3448209</td>\n",
              "      <td>3448397</td>\n",
              "      <td>19.239362</td>\n",
              "    </tr>\n",
              "    <tr>\n",
              "      <th>2</th>\n",
              "      <td>chr1</td>\n",
              "      <td>3611304</td>\n",
              "      <td>3611552</td>\n",
              "      <td>24.237903</td>\n",
              "    </tr>\n",
              "    <tr>\n",
              "      <th>3</th>\n",
              "      <td>chr1</td>\n",
              "      <td>3841405</td>\n",
              "      <td>3841606</td>\n",
              "      <td>11.985075</td>\n",
              "    </tr>\n",
              "    <tr>\n",
              "      <th>4</th>\n",
              "      <td>chr1</td>\n",
              "      <td>4142530</td>\n",
              "      <td>4142942</td>\n",
              "      <td>32.254854</td>\n",
              "    </tr>\n",
              "  </tbody>\n",
              "</table>\n",
              "</div>"
            ],
            "text/plain": [
              "    chr    Start      End  ReadCounts\n",
              "0  chr1  3325377  3325520   21.027972\n",
              "1  chr1  3448209  3448397   19.239362\n",
              "2  chr1  3611304  3611552   24.237903\n",
              "3  chr1  3841405  3841606   11.985075\n",
              "4  chr1  4142530  4142942   32.254854"
            ]
          },
          "metadata": {
            "tags": []
          },
          "execution_count": 72
        }
      ]
    },
    {
      "metadata": {
        "id": "PpcZDLvj3UcR",
        "colab_type": "code",
        "colab": {}
      },
      "cell_type": "code",
      "source": [
        "#similarly, importing read counts in all other experiments, but with only read columns, and deduplicate reads\n",
        "\n",
        "HM_CTCF_1_1_rc = pd.read_csv(io.BytesIO(uploaded['HM_CTCF_1_1.tabular']),\"\\t\", header = None, usecols=[0,1,2,10])\n",
        "HM_CTCF_1_1_rc.columns = [\"chr\", \"Start\", \"End\", \"ReadCounts\"]\n",
        "HM_CTCF_1_1_rc[\"ReadCounts\"] = HM_CTCF_1_1_rc[\"ReadCounts\"]/(HM_CTCF_1_1_rc[\"End\"] - HM_CTCF_1_1_rc[\"Start\"])\n",
        "\n",
        "HM_CTCF_5_1_rc = pd.read_csv(io.BytesIO(uploaded['HM_CTCF_5_1.tabular']),\"\\t\", header = None, usecols=[0,1,2,10])\n",
        "HM_CTCF_5_1_rc.columns = [\"chr\", \"Start\", \"End\", \"ReadCounts\"]\n",
        "HM_CTCF_5_1_rc[\"ReadCounts\"] = HM_CTCF_5_1_rc[\"ReadCounts\"]/(HM_CTCF_5_1_rc[\"End\"] - HM_CTCF_5_1_rc[\"Start\"])\n",
        "\n",
        "HM_CTCF_10_1_rc = pd.read_csv(io.BytesIO(uploaded['HM_CTCF_10_1.tabular']),\"\\t\", header = None, usecols=[0,1,2,10])\n",
        "HM_CTCF_10_1_rc.columns = [\"chr\", \"Start\", \"End\", \"ReadCounts\"]\n",
        "HM_CTCF_10_1_rc[\"ReadCounts\"] = HM_CTCF_10_1_rc[\"ReadCounts\"]/(HM_CTCF_10_1_rc[\"End\"] - HM_CTCF_10_1_rc[\"Start\"])\n",
        "\n",
        "HM_CTCF_20_1_rc = pd.read_csv(io.BytesIO(uploaded['HM_CTCF_20_1.tabular']),\"\\t\", header = None, usecols=[0,1,2,10])\n",
        "HM_CTCF_20_1_rc.columns = [\"chr\", \"Start\", \"End\", \"ReadCounts\"]\n",
        "HM_CTCF_20_1_rc[\"ReadCounts\"] = HM_CTCF_20_1_rc[\"ReadCounts\"]/(HM_CTCF_20_1_rc[\"End\"] - HM_CTCF_20_1_rc[\"Start\"])\n"
      ],
      "execution_count": 0,
      "outputs": []
    },
    {
      "metadata": {
        "id": "E1xardyEpJ1k",
        "colab_type": "code",
        "outputId": "011e2b0b-d90e-4047-8c19-1cf60acefe17",
        "colab": {
          "base_uri": "https://localhost:8080/",
          "height": 36
        }
      },
      "cell_type": "code",
      "source": [
        "# Get sum of CTCF read counts in from each exp.\n",
        "\n",
        "sum_df = pd.DataFrame()\n",
        "sum_df[\"chr\"] = ctcf_rc[\"chr\"] + \":\"+ ctcf_rc[\"Start\"].map(str)\n",
        "sum_df[\"CTCF\"] = ctcf_rc[\"ReadCounts\"]\n",
        "sum_df[\"HM_CTCF_1_1\"] = HM_CTCF_1_1_rc[\"ReadCounts\"].replace(0, np.nan)\n",
        "sum_df[\"HM_CTCF_5_1\"] = HM_CTCF_5_1_rc[\"ReadCounts\"].replace(0, np.nan)\n",
        "sum_df[\"HM_CTCF_10_1\"] = HM_CTCF_10_1_rc[\"ReadCounts\"].replace(0, np.nan)\n",
        "sum_df[\"HM_CTCF_20_1\"] = HM_CTCF_20_1_rc[\"ReadCounts\"].replace(0, np.nan)\n",
        "sum_df = sum_df[(sum_df != np.nan).all(1)]\n",
        "sum_df = sum_df[(sum_df < 1000).all(1)]\n",
        "sum_df.shape\n",
        "#sum_df.head()\n"
      ],
      "execution_count": 78,
      "outputs": [
        {
          "output_type": "execute_result",
          "data": {
            "text/plain": [
              "(56711, 6)"
            ]
          },
          "metadata": {
            "tags": []
          },
          "execution_count": 78
        }
      ]
    },
    {
      "metadata": {
        "id": "Tiuk_gwI4-dT",
        "colab_type": "text"
      },
      "cell_type": "markdown",
      "source": [
        "####Let's look at the CTCF read counts in each experiment."
      ]
    },
    {
      "metadata": {
        "id": "S6P1hBKdGoAG",
        "colab_type": "code",
        "outputId": "85c4facc-d556-4e20-e844-fbdadad838d5",
        "colab": {
          "base_uri": "https://localhost:8080/",
          "height": 275
        }
      },
      "cell_type": "code",
      "source": [
        "\n",
        "data = np.array([sum(sum_df[\"CTCF\"]), sum(sum_df[\"HM_CTCF_1_1\"]), sum(sum_df[\"HM_CTCF_5_1\"]), sum(sum_df[\"HM_CTCF_10_1\"]), sum(sum_df[\"HM_CTCF_20_1\"])], dtype=np.float32)\n",
        "sns.axes_style(\"whitegrid\", {'axes.grid' : True})\n",
        "ax = sns.barplot(x=[\"CTCF\",\"HM_CTCF_1_1\" ,\"HM_CTCF_5_1\",\"HM_CTCF_10_1\", \"HM_CTCF_20_1\"], y = data)"
      ],
      "execution_count": 79,
      "outputs": [
        {
          "output_type": "display_data",
          "data": {
            "image/png": "[encoded data removed]",
            "text/plain": [
              "<Figure size 432x288 with 1 Axes>"
            ]
          },
          "metadata": {
            "tags": []
          }
        }
      ]
    },
    {
      "metadata": {
        "id": "WP63O-Du6OGy",
        "colab_type": "text"
      },
      "cell_type": "markdown",
      "source": [
        "#### Let's try normalization by total tag counts, to get the proportion of read counts in these regions. "
      ]
    },
    {
      "metadata": {
        "id": "fevhBMO85gQ8",
        "colab_type": "code",
        "colab": {
          "base_uri": "https://localhost:8080/",
          "height": 280
        },
        "outputId": "91e3bbb1-04a9-4c2d-9575-03d4b8cf2abb"
      },
      "cell_type": "code",
      "source": [
        "H1_C1rc = 24745421 * sum(sum_df[\"CTCF\"])/sum(sum_df[\"HM_CTCF_1_1\"])\n",
        "H5_C1rc = 25365150 * sum(sum_df[\"CTCF\"])/sum(sum_df[\"HM_CTCF_5_1\"])\n",
        "H10_C1rc = 22957508 * sum(sum_df[\"CTCF\"])/sum(sum_df[\"HM_CTCF_10_1\"])\n",
        "H20_C1rc = 23593070 * sum(sum_df[\"CTCF\"])/sum(sum_df[\"HM_CTCF_20_1\"])\n",
        "data = np.array([25493952,H1_C1rc,H5_C1rc,H10_C1rc,H20_C1rc], dtype=np.float32)\n",
        "ax = sns.barplot(x=[\"CTCF\",\"HM_CTCF_1_1\" ,\"HM_CTCF_5_1\",\"HM_CTCF_10_1\", \"HM_CTCF_20_1\"], y = data)"
      ],
      "execution_count": 85,
      "outputs": [
        {
          "output_type": "display_data",
          "data": {
            "image/png": "[encoded data removed]",
            "text/plain": [
              "<Figure size 432x288 with 1 Axes>"
            ]
          },
          "metadata": {
            "tags": []
          }
        }
      ]
    },
    {
      "metadata": {
        "id": "SUQUutuk5vOo",
        "colab_type": "text"
      },
      "cell_type": "markdown",
      "source": [
        "#### We expect those bar heights to be equal, but they are not due to influence of HM reads on total read counts. Let's try normalization by CTCF read counts, and see if we get better results. "
      ]
    },
    {
      "metadata": {
        "id": "H5P_7KgH5txS",
        "colab_type": "code",
        "outputId": "5e1ad7ed-6486-4cab-d872-8f225b7db346",
        "colab": {
          "base_uri": "https://localhost:8080/",
          "height": 275
        }
      },
      "cell_type": "code",
      "source": [
        "#Normalizing by CTCF count\n",
        "sum_df[\"HM_CTCF_1_1\"] = sum_df[\"HM_CTCF_1_1\"] * sum(sum_df[\"CTCF\"])/sum(sum_df[\"HM_CTCF_1_1\"])\n",
        "sum_df[\"HM_CTCF_5_1\"] = sum_df[\"HM_CTCF_5_1\"] * sum(sum_df[\"CTCF\"])/sum(sum_df[\"HM_CTCF_5_1\"])\n",
        "sum_df[\"HM_CTCF_10_1\"] = sum_df[\"HM_CTCF_10_1\"] * sum(sum_df[\"CTCF\"])/sum(sum_df[\"HM_CTCF_10_1\"])\n",
        "sum_df[\"HM_CTCF_20_1\"] = sum_df[\"HM_CTCF_20_1\"] * sum(sum_df[\"CTCF\"])/sum(sum_df[\"HM_CTCF_20_1\"])\n",
        "#sum_df.head()\n",
        "data = np.array([sum(sum_df[\"CTCF\"]), sum(sum_df[\"HM_CTCF_1_1\"]), sum(sum_df[\"HM_CTCF_5_1\"]), sum(sum_df[\"HM_CTCF_10_1\"]), sum(sum_df[\"HM_CTCF_20_1\"])], dtype=np.float32)\n",
        "ax = sns.barplot(x=[\"CTCF\",\"HM_CTCF_1_1\" ,\"HM_CTCF_5_1\",\"HM_CTCF_10_1\", \"HM_CTCF_20_1\"], y = data)\n"
      ],
      "execution_count": 80,
      "outputs": [
        {
          "output_type": "display_data",
          "data": {
            "image/png": "[encoded data removed]",
            "text/plain": [
              "<Figure size 432x288 with 1 Axes>"
            ]
          },
          "metadata": {
            "tags": []
          }
        }
      ]
    },
    {
      "metadata": {
        "id": "Wb2gOxwg47ft",
        "colab_type": "text"
      },
      "cell_type": "markdown",
      "source": [
        "####Now that we have our counts normalized by pure CTCF read counts, we should get the same CTCF counts expected from the ratio. For example, in the HM:CTCF (1:1) experiemnt, we should expect an almost perfect correlation."
      ]
    },
    {
      "metadata": {
        "id": "BByKfox-T_ko",
        "colab_type": "code",
        "outputId": "30d11834-c702-4ae9-83fa-a69693a2a6f5",
        "colab": {
          "base_uri": "https://localhost:8080/",
          "height": 456
        }
      },
      "cell_type": "code",
      "source": [
        "sns.set(style=\"darkgrid\", color_codes=True)\n",
        "grid1 = sns.jointplot(x = (sum_df[\"CTCF\"]), y = sum_df[\"HM_CTCF_1_1\"],kind =\"reg\")\n",
        "grid1.annotate(stats.pearsonr)\n",
        "grid1"
      ],
      "execution_count": 81,
      "outputs": [
        {
          "output_type": "execute_result",
          "data": {
            "text/plain": [
              "<seaborn.axisgrid.JointGrid at 0x7f56d7a84400>"
            ]
          },
          "metadata": {
            "tags": []
          },
          "execution_count": 81
        },
        {
          "output_type": "display_data",
          "data": {
            "image/png": "[encoded data removed]",
            "text/plain": [
              "<Figure size 432x432 with 3 Axes>"
            ]
          },
          "metadata": {
            "tags": []
          }
        }
      ]
    },
    {
      "metadata": {
        "id": "C0qxKU_9Z9xx",
        "colab_type": "code",
        "outputId": "8dca718f-2b83-4163-ca65-0877fd0d2cec",
        "colab": {
          "base_uri": "https://localhost:8080/",
          "height": 456
        }
      },
      "cell_type": "code",
      "source": [
        "grid2 = sns.jointplot(x = (sum_df[\"CTCF\"]), y = sum_df[\"HM_CTCF_5_1\"],kind =\"reg\")\n",
        "grid2.annotate(stats.pearsonr)\n",
        "grid2"
      ],
      "execution_count": 34,
      "outputs": [
        {
          "output_type": "execute_result",
          "data": {
            "text/plain": [
              "<seaborn.axisgrid.JointGrid at 0x7f56da1ffd68>"
            ]
          },
          "metadata": {
            "tags": []
          },
          "execution_count": 34
        },
        {
          "output_type": "display_data",
          "data": {
            "image/png": "[encoded data removed]",
            "text/plain": [
              "<Figure size 432x432 with 3 Axes>"
            ]
          },
          "metadata": {
            "tags": []
          }
        }
      ]
    },
    {
      "metadata": {
        "id": "-fKxj_T6aBsT",
        "colab_type": "code",
        "outputId": "dc5a5d3d-e935-4e15-a547-2403aa9ae776",
        "colab": {
          "base_uri": "https://localhost:8080/",
          "height": 456
        }
      },
      "cell_type": "code",
      "source": [
        "grid3 = sns.jointplot(x = (sum_df[\"CTCF\"]), y = sum_df[\"HM_CTCF_10_1\"],kind =\"reg\")\n",
        "grid3.annotate(stats.pearsonr)\n",
        "grid3"
      ],
      "execution_count": 35,
      "outputs": [
        {
          "output_type": "execute_result",
          "data": {
            "text/plain": [
              "<seaborn.axisgrid.JointGrid at 0x7f56d9c53be0>"
            ]
          },
          "metadata": {
            "tags": []
          },
          "execution_count": 35
        },
        {
          "output_type": "display_data",
          "data": {
            "image/png": "[encoded data removed]",
            "text/plain": [
              "<Figure size 432x432 with 3 Axes>"
            ]
          },
          "metadata": {
            "tags": []
          }
        }
      ]
    },
    {
      "metadata": {
        "id": "e-4uSqLPaD81",
        "colab_type": "code",
        "outputId": "1d37d53d-c74f-41ab-95d2-22945c4c3a8a",
        "colab": {
          "base_uri": "https://localhost:8080/",
          "height": 456
        }
      },
      "cell_type": "code",
      "source": [
        "grid4 = sns.jointplot(x = (sum_df[\"CTCF\"]), y = sum_df[\"HM_CTCF_20_1\"],kind =\"reg\")\n",
        "grid4.annotate(stats.pearsonr)\n",
        "grid4"
      ],
      "execution_count": 36,
      "outputs": [
        {
          "output_type": "execute_result",
          "data": {
            "text/plain": [
              "<seaborn.axisgrid.JointGrid at 0x7f56d98095c0>"
            ]
          },
          "metadata": {
            "tags": []
          },
          "execution_count": 36
        },
        {
          "output_type": "display_data",
          "data": {
            "image/png": "[encoded data removed]",
            "text/plain": [
              "<Figure size 432x432 with 3 Axes>"
            ]
          },
          "metadata": {
            "tags": []
          }
        }
      ]
    },
    {
      "metadata": {
        "id": "kZlUQwuU6tEB",
        "colab_type": "text"
      },
      "cell_type": "markdown",
      "source": [
        "####As you can see here, as the amount of our spike-in goes down, we lose consistency in the read count proportions. We can take a look if some chromosome regions are affected more than others. "
      ]
    },
    {
      "metadata": {
        "id": "s6593j8pAvr9",
        "colab_type": "code",
        "colab": {}
      },
      "cell_type": "code",
      "source": [
        "#subtract middle columns by first columns, drop first column and plot heatmap. See if loss is because of specific chr regions.\n",
        "\n",
        "hm = pd.DataFrame()\n",
        "hm = sum_df.copy()\n",
        "\n",
        "hm[\"HM_CTCF_1_1\"] = hm[\"HM_CTCF_1_1\"] - hm[\"CTCF\"]\n",
        "hm[\"HM_CTCF_5_1\"] = hm[\"HM_CTCF_5_1\"] - hm[\"CTCF\"]\n",
        "hm[\"HM_CTCF_10_1\"] = hm[\"HM_CTCF_10_1\"] - hm[\"CTCF\"]\n",
        "hm[\"HM_CTCF_20_1\"] = hm[\"HM_CTCF_20_1\"] - hm[\"CTCF\"]\n",
        "\n",
        "hm.drop(columns=[\"CTCF\"],axis =1,inplace=True)\n",
        "chrom = pd.DataFrame()\n",
        "chrom = hm.loc[hm[\"chr\"].str.match(\"chr1\")]\n",
        "chrom = chrom.mean(axis = 0, skipna = True) \n",
        "chrom=chrom.reset_index()\n",
        "chrom=chrom.set_index(\"index\")\n",
        "for i in range(2,20):\n",
        "  s = \"chr\" + str(i)\n",
        "  chro = pd.DataFrame()\n",
        "  chro = hm.loc[hm[\"chr\"].str.match(s)]\n",
        "  chro = chro.mean(axis = 0, skipna = True) \n",
        "  chrom[i-1] = chro\n",
        "s = \"chr\" + str(i)\n",
        "chro = pd.DataFrame()\n",
        "chro = hm.loc[hm[\"chr\"].str.match(\"chrX\")]\n",
        "chro = chro.mean(axis = 0, skipna = True) \n",
        "chrom[\"X\"] = chro  \n",
        "chro = pd.DataFrame()\n",
        "chro = hm.loc[hm[\"chr\"].str.match(\"chrY\")]\n",
        "chro = chro.mean(axis = 0, skipna = True) \n",
        "chrom[\"Y\"] = chro  "
      ],
      "execution_count": 0,
      "outputs": []
    },
    {
      "metadata": {
        "id": "FL28qnwu-xUX",
        "colab_type": "code",
        "outputId": "a7054984-d1e8-46b8-ea37-0ef2d22f46e3",
        "colab": {
          "base_uri": "https://localhost:8080/",
          "height": 297
        }
      },
      "cell_type": "code",
      "source": [
        "sns.heatmap(chrom, cmap = \"BrBG_r\",vmin = -2, vmax=2)"
      ],
      "execution_count": 83,
      "outputs": [
        {
          "output_type": "execute_result",
          "data": {
            "text/plain": [
              "<matplotlib.axes._subplots.AxesSubplot at 0x7f56da7d32e8>"
            ]
          },
          "metadata": {
            "tags": []
          },
          "execution_count": 83
        },
        {
          "output_type": "display_data",
          "data": {
            "image/png": "[encoded data removed]",
            "text/plain": [
              "<Figure size 432x288 with 2 Axes>"
            ]
          },
          "metadata": {
            "tags": []
          }
        }
      ]
    },
    {
      "metadata": {
        "id": "6Q_MNzpA4fky",
        "colab_type": "text"
      },
      "cell_type": "markdown",
      "source": [
        "###The following few code blocks are some things I wanted to try and are not part of the above analysis."
      ]
    },
    {
      "metadata": {
        "id": "L8v7hqDEwtPS",
        "colab_type": "code",
        "colab": {}
      },
      "cell_type": "code",
      "source": [
        "sum_df = sum_df.loc[~sum_df[\"chr\"].str.contains(\"chrX\")]\n",
        "sum_df = sum_df.loc[~sum_df[\"chr\"].str.contains(\"chrY\")]"
      ],
      "execution_count": 0,
      "outputs": []
    },
    {
      "metadata": {
        "id": "632tx77Ny07D",
        "colab_type": "code",
        "colab": {
          "base_uri": "https://localhost:8080/",
          "height": 456
        },
        "outputId": "d977c431-b130-4e38-de30-972fa7e1e775"
      },
      "cell_type": "code",
      "source": [
        "grid5 = sns.jointplot(x = (sum_df[\"CTCF\"]), y = sum_df[\"HM_CTCF_1_1\"],kind =\"reg\")\n",
        "grid5.annotate(stats.pearsonr)\n",
        "grid5"
      ],
      "execution_count": 67,
      "outputs": [
        {
          "output_type": "execute_result",
          "data": {
            "text/plain": [
              "<seaborn.axisgrid.JointGrid at 0x7f56d8b26fd0>"
            ]
          },
          "metadata": {
            "tags": []
          },
          "execution_count": 67
        },
        {
          "output_type": "display_data",
          "data": {
            "image/png": "[encoded data removed]",
            "text/plain": [
              "<Figure size 432x432 with 3 Axes>"
            ]
          },
          "metadata": {
            "tags": []
          }
        }
      ]
    },
    {
      "metadata": {
        "id": "s8f_zB8RzR6X",
        "colab_type": "code",
        "colab": {
          "base_uri": "https://localhost:8080/",
          "height": 1992
        },
        "outputId": "18ef9d89-931e-43a6-b600-ef4ab2281694"
      },
      "cell_type": "code",
      "source": [
        "sum_df"
      ],
      "execution_count": 61,
      "outputs": [
        {
          "output_type": "execute_result",
          "data": {
            "text/html": [
              "<div>\n",
              "<style scoped>\n",
              "    .dataframe tbody tr th:only-of-type {\n",
              "        vertical-align: middle;\n",
              "    }\n",
              "\n",
              "    .dataframe tbody tr th {\n",
              "        vertical-align: top;\n",
              "    }\n",
              "\n",
              "    .dataframe thead th {\n",
              "        text-align: right;\n",
              "    }\n",
              "</style>\n",
              "<table border=\"1\" class=\"dataframe\">\n",
              "  <thead>\n",
              "    <tr style=\"text-align: right;\">\n",
              "      <th></th>\n",
              "      <th>chr</th>\n",
              "      <th>CTCF</th>\n",
              "      <th>HM_CTCF_1_1</th>\n",
              "      <th>HM_CTCF_5_1</th>\n",
              "      <th>HM_CTCF_10_1</th>\n",
              "      <th>HM_CTCF_20_1</th>\n",
              "    </tr>\n",
              "  </thead>\n",
              "  <tbody>\n",
              "    <tr>\n",
              "      <th>1</th>\n",
              "      <td>chr1:3448209</td>\n",
              "      <td>19.239362</td>\n",
              "      <td>26.804636</td>\n",
              "      <td>18.641473</td>\n",
              "      <td>43.869877</td>\n",
              "      <td>24.196675</td>\n",
              "    </tr>\n",
              "    <tr>\n",
              "      <th>2</th>\n",
              "      <td>chr1:3611304</td>\n",
              "      <td>24.237903</td>\n",
              "      <td>24.551979</td>\n",
              "      <td>14.383786</td>\n",
              "      <td>7.744594</td>\n",
              "      <td>21.102153</td>\n",
              "    </tr>\n",
              "    <tr>\n",
              "      <th>3</th>\n",
              "      <td>chr1:3841405</td>\n",
              "      <td>11.985075</td>\n",
              "      <td>11.865666</td>\n",
              "      <td>16.501744</td>\n",
              "      <td>24.956767</td>\n",
              "      <td>13.819366</td>\n",
              "    </tr>\n",
              "    <tr>\n",
              "      <th>4</th>\n",
              "      <td>chr1:4142530</td>\n",
              "      <td>32.254854</td>\n",
              "      <td>41.295446</td>\n",
              "      <td>42.759363</td>\n",
              "      <td>20.840963</td>\n",
              "      <td>46.900678</td>\n",
              "    </tr>\n",
              "    <tr>\n",
              "      <th>5</th>\n",
              "      <td>chr1:4173427</td>\n",
              "      <td>26.162791</td>\n",
              "      <td>25.559948</td>\n",
              "      <td>6.913138</td>\n",
              "      <td>21.807759</td>\n",
              "      <td>17.553669</td>\n",
              "    </tr>\n",
              "    <tr>\n",
              "      <th>6</th>\n",
              "      <td>chr1:4228253</td>\n",
              "      <td>26.005464</td>\n",
              "      <td>10.510307</td>\n",
              "      <td>37.703143</td>\n",
              "      <td>3.951212</td>\n",
              "      <td>11.768952</td>\n",
              "    </tr>\n",
              "    <tr>\n",
              "      <th>7</th>\n",
              "      <td>chr1:4255645</td>\n",
              "      <td>8.359375</td>\n",
              "      <td>5.967649</td>\n",
              "      <td>3.544689</td>\n",
              "      <td>6.708185</td>\n",
              "      <td>8.648839</td>\n",
              "    </tr>\n",
              "    <tr>\n",
              "      <th>8</th>\n",
              "      <td>chr1:4297158</td>\n",
              "      <td>30.737500</td>\n",
              "      <td>30.362024</td>\n",
              "      <td>28.031560</td>\n",
              "      <td>27.021040</td>\n",
              "      <td>19.457267</td>\n",
              "    </tr>\n",
              "    <tr>\n",
              "      <th>9</th>\n",
              "      <td>chr1:4332534</td>\n",
              "      <td>26.785714</td>\n",
              "      <td>23.645126</td>\n",
              "      <td>23.468283</td>\n",
              "      <td>26.746276</td>\n",
              "      <td>64.629346</td>\n",
              "    </tr>\n",
              "    <tr>\n",
              "      <th>10</th>\n",
              "      <td>chr1:4346119</td>\n",
              "      <td>20.394330</td>\n",
              "      <td>23.213769</td>\n",
              "      <td>26.331252</td>\n",
              "      <td>16.772282</td>\n",
              "      <td>26.145919</td>\n",
              "    </tr>\n",
              "    <tr>\n",
              "      <th>11</th>\n",
              "      <td>chr1:4382896</td>\n",
              "      <td>13.581081</td>\n",
              "      <td>13.466178</td>\n",
              "      <td>13.883639</td>\n",
              "      <td>20.254965</td>\n",
              "      <td>8.522755</td>\n",
              "    </tr>\n",
              "    <tr>\n",
              "      <th>12</th>\n",
              "      <td>chr1:4416691</td>\n",
              "      <td>44.147632</td>\n",
              "      <td>49.182965</td>\n",
              "      <td>23.882301</td>\n",
              "      <td>21.022454</td>\n",
              "      <td>23.436186</td>\n",
              "    </tr>\n",
              "    <tr>\n",
              "      <th>13</th>\n",
              "      <td>chr1:4516368</td>\n",
              "      <td>15.255435</td>\n",
              "      <td>10.259055</td>\n",
              "      <td>28.591341</td>\n",
              "      <td>21.582856</td>\n",
              "      <td>14.603890</td>\n",
              "    </tr>\n",
              "    <tr>\n",
              "      <th>14</th>\n",
              "      <td>chr1:4669835</td>\n",
              "      <td>3.915493</td>\n",
              "      <td>7.198185</td>\n",
              "      <td>25.892237</td>\n",
              "      <td>15.435290</td>\n",
              "      <td>23.246662</td>\n",
              "    </tr>\n",
              "    <tr>\n",
              "      <th>15</th>\n",
              "      <td>chr1:4768365</td>\n",
              "      <td>52.304217</td>\n",
              "      <td>48.862614</td>\n",
              "      <td>50.141070</td>\n",
              "      <td>12.523080</td>\n",
              "      <td>43.772789</td>\n",
              "    </tr>\n",
              "    <tr>\n",
              "      <th>16</th>\n",
              "      <td>chr1:4769909</td>\n",
              "      <td>45.940299</td>\n",
              "      <td>31.922468</td>\n",
              "      <td>28.208642</td>\n",
              "      <td>41.819447</td>\n",
              "      <td>27.458480</td>\n",
              "    </tr>\n",
              "    <tr>\n",
              "      <th>18</th>\n",
              "      <td>chr1:4780164</td>\n",
              "      <td>24.180272</td>\n",
              "      <td>20.411444</td>\n",
              "      <td>20.222103</td>\n",
              "      <td>23.364563</td>\n",
              "      <td>5.203210</td>\n",
              "    </tr>\n",
              "    <tr>\n",
              "      <th>20</th>\n",
              "      <td>chr1:4866234</td>\n",
              "      <td>14.596899</td>\n",
              "      <td>8.562583</td>\n",
              "      <td>12.856010</td>\n",
              "      <td>13.312367</td>\n",
              "      <td>9.517990</td>\n",
              "    </tr>\n",
              "    <tr>\n",
              "      <th>21</th>\n",
              "      <td>chr1:4877140</td>\n",
              "      <td>5.392491</td>\n",
              "      <td>7.127125</td>\n",
              "      <td>3.150463</td>\n",
              "      <td>17.583229</td>\n",
              "      <td>5.564453</td>\n",
              "    </tr>\n",
              "    <tr>\n",
              "      <th>23</th>\n",
              "      <td>chr1:4914474</td>\n",
              "      <td>16.408537</td>\n",
              "      <td>14.341625</td>\n",
              "      <td>28.238259</td>\n",
              "      <td>27.142746</td>\n",
              "      <td>5.277518</td>\n",
              "    </tr>\n",
              "    <tr>\n",
              "      <th>25</th>\n",
              "      <td>chr1:5070277</td>\n",
              "      <td>20.453382</td>\n",
              "      <td>16.476120</td>\n",
              "      <td>32.377935</td>\n",
              "      <td>21.976357</td>\n",
              "      <td>21.784093</td>\n",
              "    </tr>\n",
              "    <tr>\n",
              "      <th>26</th>\n",
              "      <td>chr1:5103128</td>\n",
              "      <td>23.542466</td>\n",
              "      <td>26.859654</td>\n",
              "      <td>19.160406</td>\n",
              "      <td>18.819675</td>\n",
              "      <td>16.764315</td>\n",
              "    </tr>\n",
              "    <tr>\n",
              "      <th>28</th>\n",
              "      <td>chr1:5183582</td>\n",
              "      <td>47.908297</td>\n",
              "      <td>40.603485</td>\n",
              "      <td>58.004576</td>\n",
              "      <td>49.040209</td>\n",
              "      <td>11.865974</td>\n",
              "    </tr>\n",
              "    <tr>\n",
              "      <th>29</th>\n",
              "      <td>chr1:5206864</td>\n",
              "      <td>16.326923</td>\n",
              "      <td>12.285365</td>\n",
              "      <td>14.065926</td>\n",
              "      <td>14.231129</td>\n",
              "      <td>50.514059</td>\n",
              "    </tr>\n",
              "    <tr>\n",
              "      <th>30</th>\n",
              "      <td>chr1:5867702</td>\n",
              "      <td>9.400000</td>\n",
              "      <td>9.928336</td>\n",
              "      <td>28.892064</td>\n",
              "      <td>11.448636</td>\n",
              "      <td>29.923935</td>\n",
              "    </tr>\n",
              "    <tr>\n",
              "      <th>32</th>\n",
              "      <td>chr1:5915294</td>\n",
              "      <td>21.773414</td>\n",
              "      <td>35.180450</td>\n",
              "      <td>35.072438</td>\n",
              "      <td>48.605275</td>\n",
              "      <td>70.296700</td>\n",
              "    </tr>\n",
              "    <tr>\n",
              "      <th>33</th>\n",
              "      <td>chr1:6053733</td>\n",
              "      <td>4.570312</td>\n",
              "      <td>4.851398</td>\n",
              "      <td>8.067222</td>\n",
              "      <td>28.421521</td>\n",
              "      <td>29.720556</td>\n",
              "    </tr>\n",
              "    <tr>\n",
              "      <th>34</th>\n",
              "      <td>chr1:6135130</td>\n",
              "      <td>26.605485</td>\n",
              "      <td>16.915132</td>\n",
              "      <td>18.055064</td>\n",
              "      <td>10.868958</td>\n",
              "      <td>36.859249</td>\n",
              "    </tr>\n",
              "    <tr>\n",
              "      <th>35</th>\n",
              "      <td>chr1:6142162</td>\n",
              "      <td>19.618644</td>\n",
              "      <td>18.581866</td>\n",
              "      <td>28.771849</td>\n",
              "      <td>17.712959</td>\n",
              "      <td>6.481965</td>\n",
              "    </tr>\n",
              "    <tr>\n",
              "      <th>36</th>\n",
              "      <td>chr1:6143967</td>\n",
              "      <td>26.571802</td>\n",
              "      <td>27.706517</td>\n",
              "      <td>32.843341</td>\n",
              "      <td>44.837999</td>\n",
              "      <td>17.395396</td>\n",
              "    </tr>\n",
              "    <tr>\n",
              "      <th>...</th>\n",
              "      <td>...</td>\n",
              "      <td>...</td>\n",
              "      <td>...</td>\n",
              "      <td>...</td>\n",
              "      <td>...</td>\n",
              "      <td>...</td>\n",
              "    </tr>\n",
              "    <tr>\n",
              "      <th>63142</th>\n",
              "      <td>chr9:123457802</td>\n",
              "      <td>24.469945</td>\n",
              "      <td>33.542893</td>\n",
              "      <td>24.194987</td>\n",
              "      <td>18.768255</td>\n",
              "      <td>54.225171</td>\n",
              "    </tr>\n",
              "    <tr>\n",
              "      <th>63143</th>\n",
              "      <td>chr9:123476602</td>\n",
              "      <td>22.198758</td>\n",
              "      <td>27.425745</td>\n",
              "      <td>11.612670</td>\n",
              "      <td>41.262245</td>\n",
              "      <td>45.382232</td>\n",
              "    </tr>\n",
              "    <tr>\n",
              "      <th>63144</th>\n",
              "      <td>chr9:123478419</td>\n",
              "      <td>34.102564</td>\n",
              "      <td>32.126889</td>\n",
              "      <td>44.529562</td>\n",
              "      <td>41.281138</td>\n",
              "      <td>9.806050</td>\n",
              "    </tr>\n",
              "    <tr>\n",
              "      <th>63145</th>\n",
              "      <td>chr9:123504350</td>\n",
              "      <td>54.994030</td>\n",
              "      <td>51.476210</td>\n",
              "      <td>31.944886</td>\n",
              "      <td>29.408514</td>\n",
              "      <td>28.119406</td>\n",
              "    </tr>\n",
              "    <tr>\n",
              "      <th>63146</th>\n",
              "      <td>chr9:123520045</td>\n",
              "      <td>18.897297</td>\n",
              "      <td>27.387830</td>\n",
              "      <td>19.958612</td>\n",
              "      <td>10.259802</td>\n",
              "      <td>6.854471</td>\n",
              "    </tr>\n",
              "    <tr>\n",
              "      <th>63147</th>\n",
              "      <td>chr9:123523765</td>\n",
              "      <td>38.527426</td>\n",
              "      <td>43.499365</td>\n",
              "      <td>16.965819</td>\n",
              "      <td>14.587286</td>\n",
              "      <td>6.454615</td>\n",
              "    </tr>\n",
              "    <tr>\n",
              "      <th>63148</th>\n",
              "      <td>chr9:123525176</td>\n",
              "      <td>32.907534</td>\n",
              "      <td>30.318738</td>\n",
              "      <td>19.824805</td>\n",
              "      <td>17.643445</td>\n",
              "      <td>20.128207</td>\n",
              "    </tr>\n",
              "    <tr>\n",
              "      <th>63149</th>\n",
              "      <td>chr9:123638850</td>\n",
              "      <td>43.877419</td>\n",
              "      <td>31.483260</td>\n",
              "      <td>13.525806</td>\n",
              "      <td>30.832595</td>\n",
              "      <td>28.374280</td>\n",
              "    </tr>\n",
              "    <tr>\n",
              "      <th>63150</th>\n",
              "      <td>chr9:123669541</td>\n",
              "      <td>9.532258</td>\n",
              "      <td>6.594467</td>\n",
              "      <td>4.542248</td>\n",
              "      <td>20.409283</td>\n",
              "      <td>5.843673</td>\n",
              "    </tr>\n",
              "    <tr>\n",
              "      <th>63151</th>\n",
              "      <td>chr9:123709343</td>\n",
              "      <td>14.698113</td>\n",
              "      <td>29.281091</td>\n",
              "      <td>15.763601</td>\n",
              "      <td>19.441079</td>\n",
              "      <td>21.951139</td>\n",
              "    </tr>\n",
              "    <tr>\n",
              "      <th>63152</th>\n",
              "      <td>chr9:123773416</td>\n",
              "      <td>38.430233</td>\n",
              "      <td>30.384388</td>\n",
              "      <td>24.559831</td>\n",
              "      <td>5.780370</td>\n",
              "      <td>12.521617</td>\n",
              "    </tr>\n",
              "    <tr>\n",
              "      <th>63153</th>\n",
              "      <td>chr9:123796176</td>\n",
              "      <td>42.776025</td>\n",
              "      <td>36.006065</td>\n",
              "      <td>42.297199</td>\n",
              "      <td>26.302589</td>\n",
              "      <td>11.365770</td>\n",
              "    </tr>\n",
              "    <tr>\n",
              "      <th>63155</th>\n",
              "      <td>chr9:123925372</td>\n",
              "      <td>130.432234</td>\n",
              "      <td>157.131888</td>\n",
              "      <td>135.422593</td>\n",
              "      <td>160.406709</td>\n",
              "      <td>52.421815</td>\n",
              "    </tr>\n",
              "    <tr>\n",
              "      <th>63156</th>\n",
              "      <td>chr9:123937091</td>\n",
              "      <td>24.134831</td>\n",
              "      <td>30.132020</td>\n",
              "      <td>49.573451</td>\n",
              "      <td>66.645480</td>\n",
              "      <td>55.522190</td>\n",
              "    </tr>\n",
              "    <tr>\n",
              "      <th>63157</th>\n",
              "      <td>chr9:124033381</td>\n",
              "      <td>45.860000</td>\n",
              "      <td>41.937668</td>\n",
              "      <td>35.135372</td>\n",
              "      <td>4.906558</td>\n",
              "      <td>26.454216</td>\n",
              "    </tr>\n",
              "    <tr>\n",
              "      <th>63158</th>\n",
              "      <td>chr9:124118584</td>\n",
              "      <td>20.759091</td>\n",
              "      <td>30.199660</td>\n",
              "      <td>7.396065</td>\n",
              "      <td>29.374789</td>\n",
              "      <td>18.389862</td>\n",
              "    </tr>\n",
              "    <tr>\n",
              "      <th>63159</th>\n",
              "      <td>chr9:124128414</td>\n",
              "      <td>21.248092</td>\n",
              "      <td>16.108621</td>\n",
              "      <td>15.048364</td>\n",
              "      <td>3.277281</td>\n",
              "      <td>9.833628</td>\n",
              "    </tr>\n",
              "    <tr>\n",
              "      <th>63160</th>\n",
              "      <td>chr9:124251553</td>\n",
              "      <td>24.722449</td>\n",
              "      <td>17.697395</td>\n",
              "      <td>18.327611</td>\n",
              "      <td>20.198050</td>\n",
              "      <td>12.487704</td>\n",
              "    </tr>\n",
              "    <tr>\n",
              "      <th>63161</th>\n",
              "      <td>chr9:124373518</td>\n",
              "      <td>17.480447</td>\n",
              "      <td>17.376481</td>\n",
              "      <td>19.753564</td>\n",
              "      <td>28.781486</td>\n",
              "      <td>27.774677</td>\n",
              "    </tr>\n",
              "    <tr>\n",
              "      <th>63162</th>\n",
              "      <td>chr9:124456684</td>\n",
              "      <td>27.669643</td>\n",
              "      <td>43.398852</td>\n",
              "      <td>15.855060</td>\n",
              "      <td>14.021620</td>\n",
              "      <td>43.940596</td>\n",
              "    </tr>\n",
              "    <tr>\n",
              "      <th>63163</th>\n",
              "      <td>chrM:15288</td>\n",
              "      <td>284.309711</td>\n",
              "      <td>243.657754</td>\n",
              "      <td>632.596490</td>\n",
              "      <td>749.878520</td>\n",
              "      <td>1109.375928</td>\n",
              "    </tr>\n",
              "    <tr>\n",
              "      <th>63164</th>\n",
              "      <td>chrUn_GL456359:19323</td>\n",
              "      <td>20.514793</td>\n",
              "      <td>21.233662</td>\n",
              "      <td>20.027502</td>\n",
              "      <td>16.935852</td>\n",
              "      <td>18.103477</td>\n",
              "    </tr>\n",
              "    <tr>\n",
              "      <th>63165</th>\n",
              "      <td>chrUn_GL456366:28350</td>\n",
              "      <td>37.465438</td>\n",
              "      <td>44.292328</td>\n",
              "      <td>32.156234</td>\n",
              "      <td>67.059071</td>\n",
              "      <td>28.198042</td>\n",
              "    </tr>\n",
              "    <tr>\n",
              "      <th>63167</th>\n",
              "      <td>chrUn_GL456367:18893</td>\n",
              "      <td>10.738806</td>\n",
              "      <td>6.930752</td>\n",
              "      <td>34.793772</td>\n",
              "      <td>3.878416</td>\n",
              "      <td>11.415998</td>\n",
              "    </tr>\n",
              "    <tr>\n",
              "      <th>63168</th>\n",
              "      <td>chrUn_GL456368:18117</td>\n",
              "      <td>21.774775</td>\n",
              "      <td>27.155142</td>\n",
              "      <td>18.041683</td>\n",
              "      <td>36.642148</td>\n",
              "      <td>22.938903</td>\n",
              "    </tr>\n",
              "    <tr>\n",
              "      <th>63170</th>\n",
              "      <td>chrUn_JH584304:35300</td>\n",
              "      <td>42.057143</td>\n",
              "      <td>87.808464</td>\n",
              "      <td>122.705592</td>\n",
              "      <td>198.199125</td>\n",
              "      <td>229.174019</td>\n",
              "    </tr>\n",
              "    <tr>\n",
              "      <th>63171</th>\n",
              "      <td>chrUn_JH584304:35994</td>\n",
              "      <td>130.924107</td>\n",
              "      <td>141.395865</td>\n",
              "      <td>161.553981</td>\n",
              "      <td>296.017576</td>\n",
              "      <td>200.473352</td>\n",
              "    </tr>\n",
              "    <tr>\n",
              "      <th>63172</th>\n",
              "      <td>chrUn_JH584304:36740</td>\n",
              "      <td>56.037097</td>\n",
              "      <td>58.206804</td>\n",
              "      <td>110.300928</td>\n",
              "      <td>151.903375</td>\n",
              "      <td>182.095348</td>\n",
              "    </tr>\n",
              "    <tr>\n",
              "      <th>63174</th>\n",
              "      <td>chrUn_JH584304:59533</td>\n",
              "      <td>243.432258</td>\n",
              "      <td>269.947683</td>\n",
              "      <td>390.229594</td>\n",
              "      <td>426.991348</td>\n",
              "      <td>687.475679</td>\n",
              "    </tr>\n",
              "    <tr>\n",
              "      <th>63175</th>\n",
              "      <td>chrUn_JH584304:113178</td>\n",
              "      <td>56.054299</td>\n",
              "      <td>130.397372</td>\n",
              "      <td>398.146671</td>\n",
              "      <td>481.775166</td>\n",
              "      <td>546.831482</td>\n",
              "    </tr>\n",
              "  </tbody>\n",
              "</table>\n",
              "<p>47966 rows × 6 columns</p>\n",
              "</div>"
            ],
            "text/plain": [
              "                         chr        CTCF  HM_CTCF_1_1  HM_CTCF_5_1  \\\n",
              "1               chr1:3448209   19.239362    26.804636    18.641473   \n",
              "2               chr1:3611304   24.237903    24.551979    14.383786   \n",
              "3               chr1:3841405   11.985075    11.865666    16.501744   \n",
              "4               chr1:4142530   32.254854    41.295446    42.759363   \n",
              "5               chr1:4173427   26.162791    25.559948     6.913138   \n",
              "6               chr1:4228253   26.005464    10.510307    37.703143   \n",
              "7               chr1:4255645    8.359375     5.967649     3.544689   \n",
              "8               chr1:4297158   30.737500    30.362024    28.031560   \n",
              "9               chr1:4332534   26.785714    23.645126    23.468283   \n",
              "10              chr1:4346119   20.394330    23.213769    26.331252   \n",
              "11              chr1:4382896   13.581081    13.466178    13.883639   \n",
              "12              chr1:4416691   44.147632    49.182965    23.882301   \n",
              "13              chr1:4516368   15.255435    10.259055    28.591341   \n",
              "14              chr1:4669835    3.915493     7.198185    25.892237   \n",
              "15              chr1:4768365   52.304217    48.862614    50.141070   \n",
              "16              chr1:4769909   45.940299    31.922468    28.208642   \n",
              "18              chr1:4780164   24.180272    20.411444    20.222103   \n",
              "20              chr1:4866234   14.596899     8.562583    12.856010   \n",
              "21              chr1:4877140    5.392491     7.127125     3.150463   \n",
              "23              chr1:4914474   16.408537    14.341625    28.238259   \n",
              "25              chr1:5070277   20.453382    16.476120    32.377935   \n",
              "26              chr1:5103128   23.542466    26.859654    19.160406   \n",
              "28              chr1:5183582   47.908297    40.603485    58.004576   \n",
              "29              chr1:5206864   16.326923    12.285365    14.065926   \n",
              "30              chr1:5867702    9.400000     9.928336    28.892064   \n",
              "32              chr1:5915294   21.773414    35.180450    35.072438   \n",
              "33              chr1:6053733    4.570312     4.851398     8.067222   \n",
              "34              chr1:6135130   26.605485    16.915132    18.055064   \n",
              "35              chr1:6142162   19.618644    18.581866    28.771849   \n",
              "36              chr1:6143967   26.571802    27.706517    32.843341   \n",
              "...                      ...         ...          ...          ...   \n",
              "63142         chr9:123457802   24.469945    33.542893    24.194987   \n",
              "63143         chr9:123476602   22.198758    27.425745    11.612670   \n",
              "63144         chr9:123478419   34.102564    32.126889    44.529562   \n",
              "63145         chr9:123504350   54.994030    51.476210    31.944886   \n",
              "63146         chr9:123520045   18.897297    27.387830    19.958612   \n",
              "63147         chr9:123523765   38.527426    43.499365    16.965819   \n",
              "63148         chr9:123525176   32.907534    30.318738    19.824805   \n",
              "63149         chr9:123638850   43.877419    31.483260    13.525806   \n",
              "63150         chr9:123669541    9.532258     6.594467     4.542248   \n",
              "63151         chr9:123709343   14.698113    29.281091    15.763601   \n",
              "63152         chr9:123773416   38.430233    30.384388    24.559831   \n",
              "63153         chr9:123796176   42.776025    36.006065    42.297199   \n",
              "63155         chr9:123925372  130.432234   157.131888   135.422593   \n",
              "63156         chr9:123937091   24.134831    30.132020    49.573451   \n",
              "63157         chr9:124033381   45.860000    41.937668    35.135372   \n",
              "63158         chr9:124118584   20.759091    30.199660     7.396065   \n",
              "63159         chr9:124128414   21.248092    16.108621    15.048364   \n",
              "63160         chr9:124251553   24.722449    17.697395    18.327611   \n",
              "63161         chr9:124373518   17.480447    17.376481    19.753564   \n",
              "63162         chr9:124456684   27.669643    43.398852    15.855060   \n",
              "63163             chrM:15288  284.309711   243.657754   632.596490   \n",
              "63164   chrUn_GL456359:19323   20.514793    21.233662    20.027502   \n",
              "63165   chrUn_GL456366:28350   37.465438    44.292328    32.156234   \n",
              "63167   chrUn_GL456367:18893   10.738806     6.930752    34.793772   \n",
              "63168   chrUn_GL456368:18117   21.774775    27.155142    18.041683   \n",
              "63170   chrUn_JH584304:35300   42.057143    87.808464   122.705592   \n",
              "63171   chrUn_JH584304:35994  130.924107   141.395865   161.553981   \n",
              "63172   chrUn_JH584304:36740   56.037097    58.206804   110.300928   \n",
              "63174   chrUn_JH584304:59533  243.432258   269.947683   390.229594   \n",
              "63175  chrUn_JH584304:113178   56.054299   130.397372   398.146671   \n",
              "\n",
              "       HM_CTCF_10_1  HM_CTCF_20_1  \n",
              "1         43.869877     24.196675  \n",
              "2          7.744594     21.102153  \n",
              "3         24.956767     13.819366  \n",
              "4         20.840963     46.900678  \n",
              "5         21.807759     17.553669  \n",
              "6          3.951212     11.768952  \n",
              "7          6.708185      8.648839  \n",
              "8         27.021040     19.457267  \n",
              "9         26.746276     64.629346  \n",
              "10        16.772282     26.145919  \n",
              "11        20.254965      8.522755  \n",
              "12        21.022454     23.436186  \n",
              "13        21.582856     14.603890  \n",
              "14        15.435290     23.246662  \n",
              "15        12.523080     43.772789  \n",
              "16        41.819447     27.458480  \n",
              "18        23.364563      5.203210  \n",
              "20        13.312367      9.517990  \n",
              "21        17.583229      5.564453  \n",
              "23        27.142746      5.277518  \n",
              "25        21.976357     21.784093  \n",
              "26        18.819675     16.764315  \n",
              "28        49.040209     11.865974  \n",
              "29        14.231129     50.514059  \n",
              "30        11.448636     29.923935  \n",
              "32        48.605275     70.296700  \n",
              "33        28.421521     29.720556  \n",
              "34        10.868958     36.859249  \n",
              "35        17.712959      6.481965  \n",
              "36        44.837999     17.395396  \n",
              "...             ...           ...  \n",
              "63142     18.768255     54.225171  \n",
              "63143     41.262245     45.382232  \n",
              "63144     41.281138      9.806050  \n",
              "63145     29.408514     28.119406  \n",
              "63146     10.259802      6.854471  \n",
              "63147     14.587286      6.454615  \n",
              "63148     17.643445     20.128207  \n",
              "63149     30.832595     28.374280  \n",
              "63150     20.409283      5.843673  \n",
              "63151     19.441079     21.951139  \n",
              "63152      5.780370     12.521617  \n",
              "63153     26.302589     11.365770  \n",
              "63155    160.406709     52.421815  \n",
              "63156     66.645480     55.522190  \n",
              "63157      4.906558     26.454216  \n",
              "63158     29.374789     18.389862  \n",
              "63159      3.277281      9.833628  \n",
              "63160     20.198050     12.487704  \n",
              "63161     28.781486     27.774677  \n",
              "63162     14.021620     43.940596  \n",
              "63163    749.878520   1109.375928  \n",
              "63164     16.935852     18.103477  \n",
              "63165     67.059071     28.198042  \n",
              "63167      3.878416     11.415998  \n",
              "63168     36.642148     22.938903  \n",
              "63170    198.199125    229.174019  \n",
              "63171    296.017576    200.473352  \n",
              "63172    151.903375    182.095348  \n",
              "63174    426.991348    687.475679  \n",
              "63175    481.775166    546.831482  \n",
              "\n",
              "[47966 rows x 6 columns]"
            ]
          },
          "metadata": {
            "tags": []
          },
          "execution_count": 61
        }
      ]
    }
  ]
}