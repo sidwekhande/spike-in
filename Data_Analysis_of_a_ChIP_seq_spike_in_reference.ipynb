{
  "nbformat": 4,
  "nbformat_minor": 0,
  "metadata": {
    "colab": {
      "name": "Data Analysis of a ChIP-seq spike-in reference",
      "version": "0.3.2",
      "provenance": [],
      "toc_visible": true,
      "include_colab_link": true
    },
    "kernelspec": {
      "name": "python3",
      "display_name": "Python 3"
    }
  },
  "cells": [
    {
      "cell_type": "markdown",
      "metadata": {
        "id": "view-in-github",
        "colab_type": "text"
      },
      "source": [
        "<a href=\"https://colab.research.google.com/github/sidwekhande/spike-in/blob/master/Data_Analysis_of_a_ChIP_seq_spike_in_reference.ipynb\" target=\"_parent\"><img src=\"https://colab.research.google.com/assets/colab-badge.svg\" alt=\"Open In Colab\"/></a>"
      ]
    },
    {
      "metadata": {
        "id": "2-VJb-tudVec",
        "colab_type": "text"
      },
      "cell_type": "markdown",
      "source": [
        "# Data Analysis of a ChIP-seq spike-in \n",
        "\n",
        "\n",
        "---\n",
        "\n",
        "\n",
        "\n",
        "###Background\n",
        "Comparing peak-calls across multiple ChIP-seq experiments testing for different conditions is difficult, primarily because the traditional methods of RPKM, TPKM or other nomralization factors depend on the total read count of the experiment, which can vary across biological experiments. To overcome this problem, Guertin et. al. (2018) suggested using a reference spike-in, i.e., a second antibody that will give a read count proportion that is known to not change across conditions to use it as a reference for how much the first protein (target) changed.\n",
        "\n",
        "<br>\n",
        "\n",
        "---\n",
        "\n",
        "###Goal\n",
        "\n",
        "To test this, we have a set of ChIP-seq experiments that mix H3K27me3 and CTCF antibodies in varying proportions (1:20, 1:10, 1:5, and 1:1). These four experiments can be used to see if we can detect the change in CTCF read count proportion in the same ratio of the antibody proportion. This can assess if the antibody efficiency is consistent, and also serves as a good analysis of how much CTCF we should use for spike-in when testing for H3K7me3 changes across condition.\n",
        "\n",
        "<br>\n",
        "\n"
      ]
    },
    {
      "metadata": {
        "id": "0RAutMabf3SM",
        "colab_type": "text"
      },
      "cell_type": "markdown",
      "source": [
        "## Data Preprocessing\n",
        "\n",
        "---\n",
        "\n",
        "We have five ChIP-seq experiments:\n",
        "\n",
        "\n",
        "1.   H3K27me3:CTCF (20:1) [Total Tag Count =  28,288,343]\n",
        "2.   H3K27me3:CTCF (10:1) [Total Tag Count = 22,957,508]\n",
        "1.   H3K27me3:CTCF (5:1) [Total Tag Count = 25,365,150]\n",
        "2.   H3K27me3:CTCF (1:1) [Total Tag Count = 24,745,421]\n",
        "3.   CTCF [Total Tag Count = 25,493,952]\n",
        "4.   H3K27me3 [Total Tag Count = 23,593,070]\n",
        "\n",
        "I aligned the reads using bowtie2 and used MACS2 on Galaxy to call peaks on the pure CTCF experiment [bed file] . This gives us the expected binding location of CTCF in all these experiments. \n",
        "\n",
        "I then used samtools bedcov to get the number of read counts at these positions in all the above experiments.\n",
        "\n",
        "\n",
        "```\n",
        "samtools bedcov [CTCF Peak calls BED] [INPUT BAM1] > [OUTPUT]\n",
        "```\n",
        "\n",
        "The files have the readcounts at expected CTCF binding positions. By looking at the normalized sum of these readcounts, we should get the ratio of read counts equal to the ratio of CTCF antibody added. \n"
      ]
    },
    {
      "metadata": {
        "id": "BBhGbNoBGGQw",
        "colab_type": "code",
        "colab": {}
      },
      "cell_type": "code",
      "source": [
        "import pandas as pd\n",
        "import seaborn as sns\n",
        "import matplotlib.pyplot as plt\n",
        "import numpy as np\n",
        "import math"
      ],
      "execution_count": 0,
      "outputs": []
    },
    {
      "metadata": {
        "id": "5NX7skPbt3bF",
        "colab_type": "code",
        "outputId": "733596e0-d8c6-4e96-b6c0-42bd1ff21a45",
        "colab": {
          "resources": {
            "http://localhost:8080/nbextensions/google.colab/files.js": {
              "data": "Ly8gQ29weXJpZ2h0IDIwMTcgR29vZ2xlIExMQwovLwovLyBMaWNlbnNlZCB1bmRlciB0aGUgQXBhY2hlIExpY2Vuc2UsIFZlcnNpb24gMi4wICh0aGUgIkxpY2Vuc2UiKTsKLy8geW91IG1heSBub3QgdXNlIHRoaXMgZmlsZSBleGNlcHQgaW4gY29tcGxpYW5jZSB3aXRoIHRoZSBMaWNlbnNlLgovLyBZb3UgbWF5IG9idGFpbiBhIGNvcHkgb2YgdGhlIExpY2Vuc2UgYXQKLy8KLy8gICAgICBodHRwOi8vd3d3LmFwYWNoZS5vcmcvbGljZW5zZXMvTElDRU5TRS0yLjAKLy8KLy8gVW5sZXNzIHJlcXVpcmVkIGJ5IGFwcGxpY2FibGUgbGF3IG9yIGFncmVlZCB0byBpbiB3cml0aW5nLCBzb2Z0d2FyZQovLyBkaXN0cmlidXRlZCB1bmRlciB0aGUgTGljZW5zZSBpcyBkaXN0cmlidXRlZCBvbiBhbiAiQVMgSVMiIEJBU0lTLAovLyBXSVRIT1VUIFdBUlJBTlRJRVMgT1IgQ09ORElUSU9OUyBPRiBBTlkgS0lORCwgZWl0aGVyIGV4cHJlc3Mgb3IgaW1wbGllZC4KLy8gU2VlIHRoZSBMaWNlbnNlIGZvciB0aGUgc3BlY2lmaWMgbGFuZ3VhZ2UgZ292ZXJuaW5nIHBlcm1pc3Npb25zIGFuZAovLyBsaW1pdGF0aW9ucyB1bmRlciB0aGUgTGljZW5zZS4KCi8qKgogKiBAZmlsZW92ZXJ2aWV3IEhlbHBlcnMgZm9yIGdvb2dsZS5jb2xhYiBQeXRob24gbW9kdWxlLgogKi8KKGZ1bmN0aW9uKHNjb3BlKSB7CmZ1bmN0aW9uIHNwYW4odGV4dCwgc3R5bGVBdHRyaWJ1dGVzID0ge30pIHsKICBjb25zdCBlbGVtZW50ID0gZG9jdW1lbnQuY3JlYXRlRWxlbWVudCgnc3BhbicpOwogIGVsZW1lbnQudGV4dENvbnRlbnQgPSB0ZXh0OwogIGZvciAoY29uc3Qga2V5IG9mIE9iamVjdC5rZXlzKHN0eWxlQXR0cmlidXRlcykpIHsKICAgIGVsZW1lbnQuc3R5bGVba2V5XSA9IHN0eWxlQXR0cmlidXRlc1trZXldOwogIH0KICByZXR1cm4gZWxlbWVudDsKfQoKLy8gTWF4IG51bWJlciBvZiBieXRlcyB3aGljaCB3aWxsIGJlIHVwbG9hZGVkIGF0IGEgdGltZS4KY29uc3QgTUFYX1BBWUxPQURfU0laRSA9IDEwMCAqIDEwMjQ7Ci8vIE1heCBhbW91bnQgb2YgdGltZSB0byBibG9jayB3YWl0aW5nIGZvciB0aGUgdXNlci4KY29uc3QgRklMRV9DSEFOR0VfVElNRU9VVF9NUyA9IDMwICogMTAwMDsKCmZ1bmN0aW9uIF91cGxvYWRGaWxlcyhpbnB1dElkLCBvdXRwdXRJZCkgewogIGNvbnN0IHN0ZXBzID0gdXBsb2FkRmlsZXNTdGVwKGlucHV0SWQsIG91dHB1dElkKTsKICBjb25zdCBvdXRwdXRFbGVtZW50ID0gZG9jdW1lbnQuZ2V0RWxlbWVudEJ5SWQob3V0cHV0SWQpOwogIC8vIENhY2hlIHN0ZXBzIG9uIHRoZSBvdXRwdXRFbGVtZW50IHRvIG1ha2UgaXQgYXZhaWxhYmxlIGZvciB0aGUgbmV4dCBjYWxsCiAgLy8gdG8gdXBsb2FkRmlsZXNDb250aW51ZSBmcm9tIFB5dGhvbi4KICBvdXRwdXRFbGVtZW50LnN0ZXBzID0gc3RlcHM7CgogIHJldHVybiBfdXBsb2FkRmlsZXNDb250aW51ZShvdXRwdXRJZCk7Cn0KCi8vIFRoaXMgaXMgcm91Z2hseSBhbiBhc3luYyBnZW5lcmF0b3IgKG5vdCBzdXBwb3J0ZWQgaW4gdGhlIGJyb3dzZXIgeWV0KSwKLy8gd2hlcmUgdGhlcmUgYXJlIG11bHRpcGxlIGFzeW5jaHJvbm91cyBzdGVwcyBhbmQgdGhlIFB5dGhvbiBzaWRlIGlzIGdvaW5nCi8vIHRvIHBvbGwgZm9yIGNvbXBsZXRpb24gb2YgZWFjaCBzdGVwLgovLyBUaGlzIHVzZXMgYSBQcm9taXNlIHRvIGJsb2NrIHRoZSBweXRob24gc2lkZSBvbiBjb21wbGV0aW9uIG9mIGVhY2ggc3RlcCwKLy8gdGhlbiBwYXNzZXMgdGhlIHJlc3VsdCBvZiB0aGUgcHJldmlvdXMgc3RlcCBhcyB0aGUgaW5wdXQgdG8gdGhlIG5leHQgc3RlcC4KZnVuY3Rpb24gX3VwbG9hZEZpbGVzQ29udGludWUob3V0cHV0SWQpIHsKICBjb25zdCBvdXRwdXRFbGVtZW50ID0gZG9jdW1lbnQuZ2V0RWxlbWVudEJ5SWQob3V0cHV0SWQpOwogIGNvbnN0IHN0ZXBzID0gb3V0cHV0RWxlbWVudC5zdGVwczsKCiAgY29uc3QgbmV4dCA9IHN0ZXBzLm5leHQob3V0cHV0RWxlbWVudC5sYXN0UHJvbWlzZVZhbHVlKTsKICByZXR1cm4gUHJvbWlzZS5yZXNvbHZlKG5leHQudmFsdWUucHJvbWlzZSkudGhlbigodmFsdWUpID0+IHsKICAgIC8vIENhY2hlIHRoZSBsYXN0IHByb21pc2UgdmFsdWUgdG8gbWFrZSBpdCBhdmFpbGFibGUgdG8gdGhlIG5leHQKICAgIC8vIHN0ZXAgb2YgdGhlIGdlbmVyYXRvci4KICAgIG91dHB1dEVsZW1lbnQubGFzdFByb21pc2VWYWx1ZSA9IHZhbHVlOwogICAgcmV0dXJuIG5leHQudmFsdWUucmVzcG9uc2U7CiAgfSk7Cn0KCi8qKgogKiBHZW5lcmF0b3IgZnVuY3Rpb24gd2hpY2ggaXMgY2FsbGVkIGJldHdlZW4gZWFjaCBhc3luYyBzdGVwIG9mIHRoZSB1cGxvYWQKICogcHJvY2Vzcy4KICogQHBhcmFtIHtzdHJpbmd9IGlucHV0SWQgRWxlbWVudCBJRCBvZiB0aGUgaW5wdXQgZmlsZSBwaWNrZXIgZWxlbWVudC4KICogQHBhcmFtIHtzdHJpbmd9IG91dHB1dElkIEVsZW1lbnQgSUQgb2YgdGhlIG91dHB1dCBkaXNwbGF5LgogKiBAcmV0dXJuIHshSXRlcmFibGU8IU9iamVjdD59IEl0ZXJhYmxlIG9mIG5leHQgc3RlcHMuCiAqLwpmdW5jdGlvbiogdXBsb2FkRmlsZXNTdGVwKGlucHV0SWQsIG91dHB1dElkKSB7CiAgY29uc3QgaW5wdXRFbGVtZW50ID0gZG9jdW1lbnQuZ2V0RWxlbWVudEJ5SWQoaW5wdXRJZCk7CiAgaW5wdXRFbGVtZW50LmRpc2FibGVkID0gZmFsc2U7CgogIGNvbnN0IG91dHB1dEVsZW1lbnQgPSBkb2N1bWVudC5nZXRFbGVtZW50QnlJZChvdXRwdXRJZCk7CiAgb3V0cHV0RWxlbWVudC5pbm5lckhUTUwgPSAnJzsKCiAgY29uc3QgcGlja2VkUHJvbWlzZSA9IG5ldyBQcm9taXNlKChyZXNvbHZlKSA9PiB7CiAgICBpbnB1dEVsZW1lbnQuYWRkRXZlbnRMaXN0ZW5lcignY2hhbmdlJywgKGUpID0+IHsKICAgICAgcmVzb2x2ZShlLnRhcmdldC5maWxlcyk7CiAgICB9KTsKICB9KTsKCiAgY29uc3QgY2FuY2VsID0gZG9jdW1lbnQuY3JlYXRlRWxlbWVudCgnYnV0dG9uJyk7CiAgaW5wdXRFbGVtZW50LnBhcmVudEVsZW1lbnQuYXBwZW5kQ2hpbGQoY2FuY2VsKTsKICBjYW5jZWwudGV4dENvbnRlbnQgPSAnQ2FuY2VsIHVwbG9hZCc7CiAgY29uc3QgY2FuY2VsUHJvbWlzZSA9IG5ldyBQcm9taXNlKChyZXNvbHZlKSA9PiB7CiAgICBjYW5jZWwub25jbGljayA9ICgpID0+IHsKICAgICAgcmVzb2x2ZShudWxsKTsKICAgIH07CiAgfSk7CgogIC8vIENhbmNlbCB1cGxvYWQgaWYgdXNlciBoYXNuJ3QgcGlja2VkIGFueXRoaW5nIGluIHRpbWVvdXQuCiAgY29uc3QgdGltZW91dFByb21pc2UgPSBuZXcgUHJvbWlzZSgocmVzb2x2ZSkgPT4gewogICAgc2V0VGltZW91dCgoKSA9PiB7CiAgICAgIHJlc29sdmUobnVsbCk7CiAgICB9LCBGSUxFX0NIQU5HRV9USU1FT1VUX01TKTsKICB9KTsKCiAgLy8gV2FpdCBmb3IgdGhlIHVzZXIgdG8gcGljayB0aGUgZmlsZXMuCiAgY29uc3QgZmlsZXMgPSB5aWVsZCB7CiAgICBwcm9taXNlOiBQcm9taXNlLnJhY2UoW3BpY2tlZFByb21pc2UsIHRpbWVvdXRQcm9taXNlLCBjYW5jZWxQcm9taXNlXSksCiAgICByZXNwb25zZTogewogICAgICBhY3Rpb246ICdzdGFydGluZycsCiAgICB9CiAgfTsKCiAgaWYgKCFmaWxlcykgewogICAgcmV0dXJuIHsKICAgICAgcmVzcG9uc2U6IHsKICAgICAgICBhY3Rpb246ICdjb21wbGV0ZScsCiAgICAgIH0KICAgIH07CiAgfQoKICBjYW5jZWwucmVtb3ZlKCk7CgogIC8vIERpc2FibGUgdGhlIGlucHV0IGVsZW1lbnQgc2luY2UgZnVydGhlciBwaWNrcyBhcmUgbm90IGFsbG93ZWQuCiAgaW5wdXRFbGVtZW50LmRpc2FibGVkID0gdHJ1ZTsKCiAgZm9yIChjb25zdCBmaWxlIG9mIGZpbGVzKSB7CiAgICBjb25zdCBsaSA9IGRvY3VtZW50LmNyZWF0ZUVsZW1lbnQoJ2xpJyk7CiAgICBsaS5hcHBlbmQoc3BhbihmaWxlLm5hbWUsIHtmb250V2VpZ2h0OiAnYm9sZCd9KSk7CiAgICBsaS5hcHBlbmQoc3BhbigKICAgICAgICBgKCR7ZmlsZS50eXBlIHx8ICduL2EnfSkgLSAke2ZpbGUuc2l6ZX0gYnl0ZXMsIGAgKwogICAgICAgIGBsYXN0IG1vZGlmaWVkOiAkewogICAgICAgICAgICBmaWxlLmxhc3RNb2RpZmllZERhdGUgPyBmaWxlLmxhc3RNb2RpZmllZERhdGUudG9Mb2NhbGVEYXRlU3RyaW5nKCkgOgogICAgICAgICAgICAgICAgICAgICAgICAgICAgICAgICAgICAnbi9hJ30gLSBgKSk7CiAgICBjb25zdCBwZXJjZW50ID0gc3BhbignMCUgZG9uZScpOwogICAgbGkuYXBwZW5kQ2hpbGQocGVyY2VudCk7CgogICAgb3V0cHV0RWxlbWVudC5hcHBlbmRDaGlsZChsaSk7CgogICAgY29uc3QgZmlsZURhdGFQcm9taXNlID0gbmV3IFByb21pc2UoKHJlc29sdmUpID0+IHsKICAgICAgY29uc3QgcmVhZGVyID0gbmV3IEZpbGVSZWFkZXIoKTsKICAgICAgcmVhZGVyLm9ubG9hZCA9IChlKSA9PiB7CiAgICAgICAgcmVzb2x2ZShlLnRhcmdldC5yZXN1bHQpOwogICAgICB9OwogICAgICByZWFkZXIucmVhZEFzQXJyYXlCdWZmZXIoZmlsZSk7CiAgICB9KTsKICAgIC8vIFdhaXQgZm9yIHRoZSBkYXRhIHRvIGJlIHJlYWR5LgogICAgbGV0IGZpbGVEYXRhID0geWllbGQgewogICAgICBwcm9taXNlOiBmaWxlRGF0YVByb21pc2UsCiAgICAgIHJlc3BvbnNlOiB7CiAgICAgICAgYWN0aW9uOiAnY29udGludWUnLAogICAgICB9CiAgICB9OwoKICAgIC8vIFVzZSBhIGNodW5rZWQgc2VuZGluZyB0byBhdm9pZCBtZXNzYWdlIHNpemUgbGltaXRzLiBTZWUgYi82MjExNTY2MC4KICAgIGxldCBwb3NpdGlvbiA9IDA7CiAgICB3aGlsZSAocG9zaXRpb24gPCBmaWxlRGF0YS5ieXRlTGVuZ3RoKSB7CiAgICAgIGNvbnN0IGxlbmd0aCA9IE1hdGgubWluKGZpbGVEYXRhLmJ5dGVMZW5ndGggLSBwb3NpdGlvbiwgTUFYX1BBWUxPQURfU0laRSk7CiAgICAgIGNvbnN0IGNodW5rID0gbmV3IFVpbnQ4QXJyYXkoZmlsZURhdGEsIHBvc2l0aW9uLCBsZW5ndGgpOwogICAgICBwb3NpdGlvbiArPSBsZW5ndGg7CgogICAgICBjb25zdCBiYXNlNjQgPSBidG9hKFN0cmluZy5mcm9tQ2hhckNvZGUuYXBwbHkobnVsbCwgY2h1bmspKTsKICAgICAgeWllbGQgewogICAgICAgIHJlc3BvbnNlOiB7CiAgICAgICAgICBhY3Rpb246ICdhcHBlbmQnLAogICAgICAgICAgZmlsZTogZmlsZS5uYW1lLAogICAgICAgICAgZGF0YTogYmFzZTY0LAogICAgICAgIH0sCiAgICAgIH07CiAgICAgIHBlcmNlbnQudGV4dENvbnRlbnQgPQogICAgICAgICAgYCR7TWF0aC5yb3VuZCgocG9zaXRpb24gLyBmaWxlRGF0YS5ieXRlTGVuZ3RoKSAqIDEwMCl9JSBkb25lYDsKICAgIH0KICB9CgogIC8vIEFsbCBkb25lLgogIHlpZWxkIHsKICAgIHJlc3BvbnNlOiB7CiAgICAgIGFjdGlvbjogJ2NvbXBsZXRlJywKICAgIH0KICB9Owp9CgpzY29wZS5nb29nbGUgPSBzY29wZS5nb29nbGUgfHwge307CnNjb3BlLmdvb2dsZS5jb2xhYiA9IHNjb3BlLmdvb2dsZS5jb2xhYiB8fCB7fTsKc2NvcGUuZ29vZ2xlLmNvbGFiLl9maWxlcyA9IHsKICBfdXBsb2FkRmlsZXMsCiAgX3VwbG9hZEZpbGVzQ29udGludWUsCn07Cn0pKHNlbGYpOwo=",
              "ok": true,
              "headers": [
                [
                  "content-type",
                  "application/javascript"
                ]
              ],
              "status": 200,
              "status_text": "OK"
            }
          },
          "base_uri": "https://localhost:8080/",
          "height": 255
        }
      },
      "cell_type": "code",
      "source": [
        "from google.colab import files\n",
        "uploaded = files.upload()\n"
      ],
      "execution_count": 4,
      "outputs": [
        {
          "output_type": "display_data",
          "data": {
            "text/html": [
              "\n",
              "     <input type=\"file\" id=\"files-a47d8d81-bd06-4d1a-9549-f358b0e3ef74\" name=\"files[]\" multiple disabled />\n",
              "     <output id=\"result-a47d8d81-bd06-4d1a-9549-f358b0e3ef74\">\n",
              "      Upload widget is only available when the cell has been executed in the\n",
              "      current browser session. Please rerun this cell to enable.\n",
              "      </output>\n",
              "      <script src=\"/nbextensions/google.colab/files.js\"></script> "
            ],
            "text/plain": [
              "<IPython.core.display.HTML object>"
            ]
          },
          "metadata": {
            "tags": []
          }
        },
        {
          "output_type": "stream",
          "text": [
            "Saving HM_CTCF_20_1.tabular to HM_CTCF_20_1.tabular\n",
            "Saving HM_CTCF_5_1.tabular to HM_CTCF_5_1.tabular\n",
            "Saving HM_CTCF_1_1.tabular to HM_CTCF_1_1.tabular\n",
            "Saving HM_CTCF_10_1.tabular to HM_CTCF_10_1.tabular\n",
            "Saving CTCF_rc.tabular to CTCF_rc.tabular\n",
            "Saving HM.tabular to HM.tabular\n"
          ],
          "name": "stdout"
        }
      ]
    },
    {
      "metadata": {
        "id": "1xhM7FmJyAxC",
        "colab_type": "code",
        "outputId": "9a3927e7-93b4-48cd-def8-b16350188989",
        "colab": {
          "base_uri": "https://localhost:8080/",
          "height": 293
        }
      },
      "cell_type": "code",
      "source": [
        "import io\n",
        "\n",
        "#importing read counts from CTCF experiment\n",
        "ctcf_rc = pd.read_csv(io.BytesIO(uploaded['CTCF_rc.tabular']),\"\\t\", header = None)\n",
        "ctcf_rc.columns = [\"chr\", \"Start\", \"End\", \"Name\",\"Score\",\"Strand\",\"ThickStart\",\"ThinEnd\",\"ItemRGB\",\"BlockCount\",\"ReadCounts\"]\n",
        "ctcf_rc.head()"
      ],
      "execution_count": 55,
      "outputs": [
        {
          "output_type": "execute_result",
          "data": {
            "text/html": [
              "<div>\n",
              "<style scoped>\n",
              "    .dataframe tbody tr th:only-of-type {\n",
              "        vertical-align: middle;\n",
              "    }\n",
              "\n",
              "    .dataframe tbody tr th {\n",
              "        vertical-align: top;\n",
              "    }\n",
              "\n",
              "    .dataframe thead th {\n",
              "        text-align: right;\n",
              "    }\n",
              "</style>\n",
              "<table border=\"1\" class=\"dataframe\">\n",
              "  <thead>\n",
              "    <tr style=\"text-align: right;\">\n",
              "      <th></th>\n",
              "      <th>chr</th>\n",
              "      <th>Start</th>\n",
              "      <th>End</th>\n",
              "      <th>Name</th>\n",
              "      <th>Score</th>\n",
              "      <th>Strand</th>\n",
              "      <th>ThickStart</th>\n",
              "      <th>ThinEnd</th>\n",
              "      <th>ItemRGB</th>\n",
              "      <th>BlockCount</th>\n",
              "      <th>ReadCounts</th>\n",
              "    </tr>\n",
              "  </thead>\n",
              "  <tbody>\n",
              "    <tr>\n",
              "      <th>0</th>\n",
              "      <td>chr1</td>\n",
              "      <td>3325377</td>\n",
              "      <td>3325520</td>\n",
              "      <td>EB_4hRA_-_CTCF_bam_peak_1</td>\n",
              "      <td>127</td>\n",
              "      <td>.</td>\n",
              "      <td>8.00295</td>\n",
              "      <td>15.29251</td>\n",
              "      <td>12.78554</td>\n",
              "      <td>77</td>\n",
              "      <td>3007</td>\n",
              "    </tr>\n",
              "    <tr>\n",
              "      <th>1</th>\n",
              "      <td>chr1</td>\n",
              "      <td>3448209</td>\n",
              "      <td>3448397</td>\n",
              "      <td>EB_4hRA_-_CTCF_bam_peak_2</td>\n",
              "      <td>258</td>\n",
              "      <td>.</td>\n",
              "      <td>12.82895</td>\n",
              "      <td>28.54597</td>\n",
              "      <td>25.82700</td>\n",
              "      <td>102</td>\n",
              "      <td>3617</td>\n",
              "    </tr>\n",
              "    <tr>\n",
              "      <th>2</th>\n",
              "      <td>chr1</td>\n",
              "      <td>3611304</td>\n",
              "      <td>3611552</td>\n",
              "      <td>EB_4hRA_-_CTCF_bam_peak_3</td>\n",
              "      <td>312</td>\n",
              "      <td>.</td>\n",
              "      <td>14.43074</td>\n",
              "      <td>33.99889</td>\n",
              "      <td>31.20519</td>\n",
              "      <td>121</td>\n",
              "      <td>6011</td>\n",
              "    </tr>\n",
              "    <tr>\n",
              "      <th>3</th>\n",
              "      <td>chr1</td>\n",
              "      <td>3841405</td>\n",
              "      <td>3841606</td>\n",
              "      <td>EB_4hRA_-_CTCF_bam_peak_4</td>\n",
              "      <td>112</td>\n",
              "      <td>.</td>\n",
              "      <td>7.62313</td>\n",
              "      <td>13.70331</td>\n",
              "      <td>11.22671</td>\n",
              "      <td>110</td>\n",
              "      <td>2409</td>\n",
              "    </tr>\n",
              "    <tr>\n",
              "      <th>4</th>\n",
              "      <td>chr1</td>\n",
              "      <td>4142530</td>\n",
              "      <td>4142942</td>\n",
              "      <td>EB_4hRA_-_CTCF_bam_peak_5</td>\n",
              "      <td>884</td>\n",
              "      <td>.</td>\n",
              "      <td>21.95743</td>\n",
              "      <td>92.10209</td>\n",
              "      <td>88.45210</td>\n",
              "      <td>185</td>\n",
              "      <td>13289</td>\n",
              "    </tr>\n",
              "  </tbody>\n",
              "</table>\n",
              "</div>"
            ],
            "text/plain": [
              "    chr    Start      End                       Name  Score Strand  \\\n",
              "0  chr1  3325377  3325520  EB_4hRA_-_CTCF_bam_peak_1    127      .   \n",
              "1  chr1  3448209  3448397  EB_4hRA_-_CTCF_bam_peak_2    258      .   \n",
              "2  chr1  3611304  3611552  EB_4hRA_-_CTCF_bam_peak_3    312      .   \n",
              "3  chr1  3841405  3841606  EB_4hRA_-_CTCF_bam_peak_4    112      .   \n",
              "4  chr1  4142530  4142942  EB_4hRA_-_CTCF_bam_peak_5    884      .   \n",
              "\n",
              "   ThickStart   ThinEnd   ItemRGB  BlockCount  ReadCounts  \n",
              "0     8.00295  15.29251  12.78554          77        3007  \n",
              "1    12.82895  28.54597  25.82700         102        3617  \n",
              "2    14.43074  33.99889  31.20519         121        6011  \n",
              "3     7.62313  13.70331  11.22671         110        2409  \n",
              "4    21.95743  92.10209  88.45210         185       13289  "
            ]
          },
          "metadata": {
            "tags": []
          },
          "execution_count": 55
        }
      ]
    },
    {
      "metadata": {
        "id": "I43CMjpm0UL0",
        "colab_type": "text"
      },
      "cell_type": "markdown",
      "source": [
        "As you can see here, we have a columns that will not be required for our analysis. We can drop these columns in the above dataframe and ignore to import these columns in our other dataframes."
      ]
    },
    {
      "metadata": {
        "id": "f74WsGEFzwaO",
        "colab_type": "code",
        "outputId": "2e0730c5-af70-4a34-f8e6-c325ac340a35",
        "colab": {
          "base_uri": "https://localhost:8080/",
          "height": 206
        }
      },
      "cell_type": "code",
      "source": [
        "#drop columns\n",
        "\n",
        "ctcf_rc.drop(columns=[\"Name\",\"Score\",\"Strand\",\"ThickStart\",\"ThinEnd\",\"ItemRGB\",\"BlockCount\"],axis =1,inplace=True)\n",
        "ctcf_rc.head()"
      ],
      "execution_count": 56,
      "outputs": [
        {
          "output_type": "execute_result",
          "data": {
            "text/html": [
              "<div>\n",
              "<style scoped>\n",
              "    .dataframe tbody tr th:only-of-type {\n",
              "        vertical-align: middle;\n",
              "    }\n",
              "\n",
              "    .dataframe tbody tr th {\n",
              "        vertical-align: top;\n",
              "    }\n",
              "\n",
              "    .dataframe thead th {\n",
              "        text-align: right;\n",
              "    }\n",
              "</style>\n",
              "<table border=\"1\" class=\"dataframe\">\n",
              "  <thead>\n",
              "    <tr style=\"text-align: right;\">\n",
              "      <th></th>\n",
              "      <th>chr</th>\n",
              "      <th>Start</th>\n",
              "      <th>End</th>\n",
              "      <th>ReadCounts</th>\n",
              "    </tr>\n",
              "  </thead>\n",
              "  <tbody>\n",
              "    <tr>\n",
              "      <th>0</th>\n",
              "      <td>chr1</td>\n",
              "      <td>3325377</td>\n",
              "      <td>3325520</td>\n",
              "      <td>3007</td>\n",
              "    </tr>\n",
              "    <tr>\n",
              "      <th>1</th>\n",
              "      <td>chr1</td>\n",
              "      <td>3448209</td>\n",
              "      <td>3448397</td>\n",
              "      <td>3617</td>\n",
              "    </tr>\n",
              "    <tr>\n",
              "      <th>2</th>\n",
              "      <td>chr1</td>\n",
              "      <td>3611304</td>\n",
              "      <td>3611552</td>\n",
              "      <td>6011</td>\n",
              "    </tr>\n",
              "    <tr>\n",
              "      <th>3</th>\n",
              "      <td>chr1</td>\n",
              "      <td>3841405</td>\n",
              "      <td>3841606</td>\n",
              "      <td>2409</td>\n",
              "    </tr>\n",
              "    <tr>\n",
              "      <th>4</th>\n",
              "      <td>chr1</td>\n",
              "      <td>4142530</td>\n",
              "      <td>4142942</td>\n",
              "      <td>13289</td>\n",
              "    </tr>\n",
              "  </tbody>\n",
              "</table>\n",
              "</div>"
            ],
            "text/plain": [
              "    chr    Start      End  ReadCounts\n",
              "0  chr1  3325377  3325520        3007\n",
              "1  chr1  3448209  3448397        3617\n",
              "2  chr1  3611304  3611552        6011\n",
              "3  chr1  3841405  3841606        2409\n",
              "4  chr1  4142530  4142942       13289"
            ]
          },
          "metadata": {
            "tags": []
          },
          "execution_count": 56
        }
      ]
    },
    {
      "metadata": {
        "id": "PpcZDLvj3UcR",
        "colab_type": "code",
        "outputId": "f64a7913-3e41-471b-a7a9-792fbcd01405",
        "colab": {
          "base_uri": "https://localhost:8080/",
          "height": 206
        }
      },
      "cell_type": "code",
      "source": [
        "#similarly, importing read counts in all other experiments, but with only reqd columns\n",
        "HM_rc = pd.read_csv(io.BytesIO(uploaded['HM.tabular']),\"\\t\", header = None, usecols=[0,1,2,10])\n",
        "HM_rc.columns = [\"chr\", \"Start\", \"End\", \"ReadCounts\"]\n",
        "HM_CTCF_1_1_rc = pd.read_csv(io.BytesIO(uploaded['HM_CTCF_1_1.tabular']),\"\\t\", header = None, usecols=[0,1,2,10])\n",
        "HM_CTCF_1_1_rc.columns = [\"chr\", \"Start\", \"End\", \"ReadCounts\"]\n",
        "HM_CTCF_5_1_rc = pd.read_csv(io.BytesIO(uploaded['HM_CTCF_5_1.tabular']),\"\\t\", header = None, usecols=[0,1,2,10])\n",
        "HM_CTCF_5_1_rc.columns = [\"chr\", \"Start\", \"End\", \"ReadCounts\"]\n",
        "HM_CTCF_10_1_rc = pd.read_csv(io.BytesIO(uploaded['HM_CTCF_10_1.tabular']),\"\\t\", header = None, usecols=[0,1,2,10])\n",
        "HM_CTCF_10_1_rc.columns = [\"chr\", \"Start\", \"End\", \"ReadCounts\"]\n",
        "HM_CTCF_20_1_rc = pd.read_csv(io.BytesIO(uploaded['HM_CTCF_20_1.tabular']),\"\\t\", header = None, usecols=[0,1,2,10])\n",
        "HM_CTCF_20_1_rc.columns = [\"chr\", \"Start\", \"End\", \"ReadCounts\"]\n",
        "HM_CTCF_1_1_rc.head()"
      ],
      "execution_count": 80,
      "outputs": [
        {
          "output_type": "execute_result",
          "data": {
            "text/html": [
              "<div>\n",
              "<style scoped>\n",
              "    .dataframe tbody tr th:only-of-type {\n",
              "        vertical-align: middle;\n",
              "    }\n",
              "\n",
              "    .dataframe tbody tr th {\n",
              "        vertical-align: top;\n",
              "    }\n",
              "\n",
              "    .dataframe thead th {\n",
              "        text-align: right;\n",
              "    }\n",
              "</style>\n",
              "<table border=\"1\" class=\"dataframe\">\n",
              "  <thead>\n",
              "    <tr style=\"text-align: right;\">\n",
              "      <th></th>\n",
              "      <th>chr</th>\n",
              "      <th>Start</th>\n",
              "      <th>End</th>\n",
              "      <th>ReadCounts</th>\n",
              "    </tr>\n",
              "  </thead>\n",
              "  <tbody>\n",
              "    <tr>\n",
              "      <th>0</th>\n",
              "      <td>chr1</td>\n",
              "      <td>3325377</td>\n",
              "      <td>3325520</td>\n",
              "      <td>248</td>\n",
              "    </tr>\n",
              "    <tr>\n",
              "      <th>1</th>\n",
              "      <td>chr1</td>\n",
              "      <td>3448209</td>\n",
              "      <td>3448397</td>\n",
              "      <td>917</td>\n",
              "    </tr>\n",
              "    <tr>\n",
              "      <th>2</th>\n",
              "      <td>chr1</td>\n",
              "      <td>3611304</td>\n",
              "      <td>3611552</td>\n",
              "      <td>1108</td>\n",
              "    </tr>\n",
              "    <tr>\n",
              "      <th>3</th>\n",
              "      <td>chr1</td>\n",
              "      <td>3841405</td>\n",
              "      <td>3841606</td>\n",
              "      <td>434</td>\n",
              "    </tr>\n",
              "    <tr>\n",
              "      <th>4</th>\n",
              "      <td>chr1</td>\n",
              "      <td>4142530</td>\n",
              "      <td>4142942</td>\n",
              "      <td>3096</td>\n",
              "    </tr>\n",
              "  </tbody>\n",
              "</table>\n",
              "</div>"
            ],
            "text/plain": [
              "    chr    Start      End  ReadCounts\n",
              "0  chr1  3325377  3325520         248\n",
              "1  chr1  3448209  3448397         917\n",
              "2  chr1  3611304  3611552        1108\n",
              "3  chr1  3841405  3841606         434\n",
              "4  chr1  4142530  4142942        3096"
            ]
          },
          "metadata": {
            "tags": []
          },
          "execution_count": 80
        }
      ]
    },
    {
      "metadata": {
        "id": "E1xardyEpJ1k",
        "colab_type": "code",
        "colab": {
          "base_uri": "https://localhost:8080/",
          "height": 206
        },
        "outputId": "deb6b06d-0e17-4631-80f9-a306f4841c20"
      },
      "cell_type": "code",
      "source": [
        "# Get sum of CTCF read counts in from each exp.\n",
        "'''sum_df = pd.DataFrame({\n",
        "    'CTCF':sum(ctcf_rc[\"ReadCounts\"]),\n",
        "    'HM_CTCF_1_1':sum(HM_CTCF_1_1_rc[\"ReadCounts\"]),\n",
        "    'HM_CTCF_5_1':sum(HM_CTCF_5_1_rc[\"ReadCounts\"]),\n",
        "    'HM_CTCF_10_1':sum(HM_CTCF_10_1_rc[\"ReadCounts\"]),\n",
        "    'HM_CTCF_20_1':sum(HM_CTCF_20_1_rc[\"ReadCounts\"])},\n",
        "    index=[0]\n",
        "    \n",
        ")'''\n",
        "sum_df = pd.DataFrame()\n",
        "#sum_df.head()\n",
        "sum_df[\"CTCF\"] = ctcf_rc[\"ReadCounts\"]\n",
        "sum_df[\"HM_CTCF_1_1\"] = HM_CTCF_1_1_rc[\"ReadCounts\"]\n",
        "sum_df[\"HM_CTCF_5_1\"] = HM_CTCF_5_1_rc[\"ReadCounts\"]\n",
        "sum_df[\"HM_CTCF_10_1\"] = HM_CTCF_10_1_rc[\"ReadCounts\"]\n",
        "sum_df[\"HM_CTCF_20_1\"] = HM_CTCF_20_1_rc[\"ReadCounts\"]\n",
        "#r = sum(HM_CTCF_1_1_rc[\"ReadCounts\"])\n",
        "#print (r)\n",
        "sum_df.head()"
      ],
      "execution_count": 81,
      "outputs": [
        {
          "output_type": "execute_result",
          "data": {
            "text/html": [
              "<div>\n",
              "<style scoped>\n",
              "    .dataframe tbody tr th:only-of-type {\n",
              "        vertical-align: middle;\n",
              "    }\n",
              "\n",
              "    .dataframe tbody tr th {\n",
              "        vertical-align: top;\n",
              "    }\n",
              "\n",
              "    .dataframe thead th {\n",
              "        text-align: right;\n",
              "    }\n",
              "</style>\n",
              "<table border=\"1\" class=\"dataframe\">\n",
              "  <thead>\n",
              "    <tr style=\"text-align: right;\">\n",
              "      <th></th>\n",
              "      <th>CTCF</th>\n",
              "      <th>HM_CTCF_1_1</th>\n",
              "      <th>HM_CTCF_5_1</th>\n",
              "      <th>HM_CTCF_10_1</th>\n",
              "      <th>HM_CTCF_20_1</th>\n",
              "    </tr>\n",
              "  </thead>\n",
              "  <tbody>\n",
              "    <tr>\n",
              "      <th>0</th>\n",
              "      <td>3007</td>\n",
              "      <td>248</td>\n",
              "      <td>0</td>\n",
              "      <td>194</td>\n",
              "      <td>151</td>\n",
              "    </tr>\n",
              "    <tr>\n",
              "      <th>1</th>\n",
              "      <td>3617</td>\n",
              "      <td>917</td>\n",
              "      <td>224</td>\n",
              "      <td>365</td>\n",
              "      <td>226</td>\n",
              "    </tr>\n",
              "    <tr>\n",
              "      <th>2</th>\n",
              "      <td>6011</td>\n",
              "      <td>1108</td>\n",
              "      <td>228</td>\n",
              "      <td>85</td>\n",
              "      <td>260</td>\n",
              "    </tr>\n",
              "    <tr>\n",
              "      <th>3</th>\n",
              "      <td>2409</td>\n",
              "      <td>434</td>\n",
              "      <td>212</td>\n",
              "      <td>222</td>\n",
              "      <td>138</td>\n",
              "    </tr>\n",
              "    <tr>\n",
              "      <th>4</th>\n",
              "      <td>13289</td>\n",
              "      <td>3096</td>\n",
              "      <td>1126</td>\n",
              "      <td>380</td>\n",
              "      <td>960</td>\n",
              "    </tr>\n",
              "  </tbody>\n",
              "</table>\n",
              "</div>"
            ],
            "text/plain": [
              "    CTCF  HM_CTCF_1_1  HM_CTCF_5_1  HM_CTCF_10_1  HM_CTCF_20_1\n",
              "0   3007          248            0           194           151\n",
              "1   3617          917          224           365           226\n",
              "2   6011         1108          228            85           260\n",
              "3   2409          434          212           222           138\n",
              "4  13289         3096         1126           380           960"
            ]
          },
          "metadata": {
            "tags": []
          },
          "execution_count": 81
        }
      ]
    },
    {
      "metadata": {
        "id": "S6P1hBKdGoAG",
        "colab_type": "code",
        "colab": {
          "base_uri": "https://localhost:8080/",
          "height": 415
        },
        "outputId": "fc3654a1-48a6-4294-ca99-d5ac9123e2c1"
      },
      "cell_type": "code",
      "source": [
        "sum_df[sum_df > 70000].count()\n",
        "#sum_df.plot(y=[sum(sum_df[\"CTCF\"]),sum(sum_df[\"HM_CTCF_1_1\"])])\n",
        "#sum_df[\"CTCF\"]\n",
        "#ax = sum_df.plot()\n",
        "ax = sns.barplot(x=list(sum_df), y = [sum(sum_df[\"CTCF\"]), sum(sum_df[\"HM_CTCF_1_1\"]), sum(sum_df[\"HM_CTCF_5_1\"]), sum(sum_df[\"HM_CTCF_10_1\"]), sum(sum_df[\"HM_CTCF_20_1\"])])\n",
        "#ax = sum_df.CTCF.plot()"
      ],
      "execution_count": 82,
      "outputs": [
        {
          "output_type": "stream",
          "text": [
            "/usr/local/lib/python3.6/dist-packages/seaborn/categorical.py:1428: FutureWarning: remove_na is deprecated and is a private function. Do not use.\n",
            "  stat_data = remove_na(group_data)\n"
          ],
          "name": "stderr"
        },
        {
          "output_type": "display_data",
          "data": {
            "image/png": "[encoded data removed]",
            "text/plain": [
              "<Figure size 576x396 with 1 Axes>"
            ]
          },
          "metadata": {
            "tags": []
          }
        }
      ]
    },
    {
      "metadata": {
        "id": "SUQUutuk5vOo",
        "colab_type": "text"
      },
      "cell_type": "markdown",
      "source": [
        "Next step is a total tag normalization, to get the proportion of read counts in these regions. "
      ]
    },
    {
      "metadata": {
        "id": "H5P_7KgH5txS",
        "colab_type": "code",
        "colab": {}
      },
      "cell_type": "code",
      "source": [
        "#Normalizing by CTCF count\n",
        "\n",
        "'''HM_rc[\"ReadCounts\"] = HM_rc[\"ReadCounts\"]/23593070\n",
        "HM_CTCF_1_20_rc[\"ReadCounts\"] = HM_CTCF_1_20_rc[\"ReadCounts\"]/23593070\n",
        "HM_CTCF_1_10_rc[\"ReadCounts\"] = HM_CTCF_1_10_rc[\"ReadCounts\"]/22957508\n",
        "HM_CTCF_1_5_rc[\"ReadCounts\"] = HM_CTCF_1_5_rc[\"ReadCounts\"]/25365150\n",
        "HM_CTCF_1_1_rc[\"ReadCounts\"] = HM_CTCF_1_1_rc[\"ReadCounts\"]/24745421'''\n",
        "H1_C1rc = 24745421 * sum(sum_df[\"CTCF\"])/sum(sum_df[\"HM_CTCF_1_1\"])\n",
        "H5_C1rc = 25365150 * sum(sum_df[\"CTCF\"])/sum(sum_df[\"HM_CTCF_5_1\"])\n",
        "H10_C1rc = 22957508 * sum(sum_df[\"CTCF\"])/sum(sum_df[\"HM_CTCF_10_1\"])\n",
        "H20_C1rc = 23593070 * sum(sum_df[\"CTCF\"])/sum(sum_df[\"HM_CTCF_20_1\"])\n",
        "sum_df[\"HM_CTCF_1_1\"] = sum_df[\"HM_CTCF_1_1\"] * sum(sum_df[\"CTCF\"])/sum(sum_df[\"HM_CTCF_1_1\"])\n",
        "#print(sum(sum_df[\"CTCF\"]))\n",
        "#print(sum(sum_df[\"HM_CTCF_1_1\"]))\n",
        "sum_df[\"HM_CTCF_5_1\"] = sum_df[\"HM_CTCF_5_1\"] * sum(sum_df[\"CTCF\"])/sum(sum_df[\"HM_CTCF_5_1\"])\n",
        "sum_df[\"HM_CTCF_10_1\"] = sum_df[\"HM_CTCF_10_1\"] * sum(sum_df[\"CTCF\"])/sum(sum_df[\"HM_CTCF_10_1\"])\n",
        "sum_df[\"HM_CTCF_20_1\"] = sum_df[\"HM_CTCF_20_1\"] * sum(sum_df[\"CTCF\"])/sum(sum_df[\"HM_CTCF_20_1\"])\n",
        "\n",
        " "
      ],
      "execution_count": 0,
      "outputs": []
    },
    {
      "metadata": {
        "id": "67TVQ2lhX0PH",
        "colab_type": "code",
        "colab": {}
      },
      "cell_type": "code",
      "source": [
        "def abline(slope, intercept):\n",
        "    \"\"\"Plot a line from slope and intercept\"\"\"\n",
        "    axes = plt.gca()\n",
        "    x_vals = np.array(axes.get_xlim())\n",
        "    y_vals = intercept + slope * x_vals\n",
        "    plt.plot(x_vals, y_vals, '--')"
      ],
      "execution_count": 0,
      "outputs": []
    },
    {
      "metadata": {
        "id": "BByKfox-T_ko",
        "colab_type": "code",
        "colab": {
          "base_uri": "https://localhost:8080/",
          "height": 512
        },
        "outputId": "82334a38-0e0d-44a0-8fdf-53a90d8b353a"
      },
      "cell_type": "code",
      "source": [
        "#Need to find better scaling for the next couple of graphs\n",
        "grid1 = sns.jointplot(x = (sum_df[\"CTCF\"]), y = sum_df[\"HM_CTCF_1_1\"],kind =\"reg\")\n",
        "grid1"
      ],
      "execution_count": 116,
      "outputs": [
        {
          "output_type": "stream",
          "text": [
            "/usr/local/lib/python3.6/dist-packages/matplotlib/axes/_axes.py:6521: MatplotlibDeprecationWarning: \n",
            "The 'normed' kwarg was deprecated in Matplotlib 2.1 and will be removed in 3.1. Use 'density' instead.\n",
            "  alternative=\"'density'\", removal=\"3.1\")\n"
          ],
          "name": "stderr"
        },
        {
          "output_type": "execute_result",
          "data": {
            "text/plain": [
              "<seaborn.axisgrid.JointGrid at 0x7f7e3e9b88d0>"
            ]
          },
          "metadata": {
            "tags": []
          },
          "execution_count": 116
        },
        {
          "output_type": "display_data",
          "data": {
            "image/png": "[encoded data removed]",
            "text/plain": [
              "<Figure size 432x432 with 3 Axes>"
            ]
          },
          "metadata": {
            "tags": []
          }
        }
      ]
    },
    {
      "metadata": {
        "id": "C0qxKU_9Z9xx",
        "colab_type": "code",
        "colab": {
          "base_uri": "https://localhost:8080/",
          "height": 512
        },
        "outputId": "02bcf4c7-7f76-4aa6-dee1-15239ba04325"
      },
      "cell_type": "code",
      "source": [
        "grid2 = sns.jointplot(x = (sum_df[\"CTCF\"]), y = sum_df[\"HM_CTCF_5_1\"],kind =\"reg\")\n",
        "grid2"
      ],
      "execution_count": 115,
      "outputs": [
        {
          "output_type": "stream",
          "text": [
            "/usr/local/lib/python3.6/dist-packages/matplotlib/axes/_axes.py:6521: MatplotlibDeprecationWarning: \n",
            "The 'normed' kwarg was deprecated in Matplotlib 2.1 and will be removed in 3.1. Use 'density' instead.\n",
            "  alternative=\"'density'\", removal=\"3.1\")\n"
          ],
          "name": "stderr"
        },
        {
          "output_type": "execute_result",
          "data": {
            "text/plain": [
              "<seaborn.axisgrid.JointGrid at 0x7f7e40e2dc50>"
            ]
          },
          "metadata": {
            "tags": []
          },
          "execution_count": 115
        },
        {
          "output_type": "display_data",
          "data": {
            "image/png": "[encoded data removed]",
            "text/plain": [
              "<Figure size 432x432 with 3 Axes>"
            ]
          },
          "metadata": {
            "tags": []
          }
        }
      ]
    },
    {
      "metadata": {
        "id": "-fKxj_T6aBsT",
        "colab_type": "code",
        "colab": {
          "base_uri": "https://localhost:8080/",
          "height": 512
        },
        "outputId": "79002c89-4a28-4114-d910-2d2fa9e75fa9"
      },
      "cell_type": "code",
      "source": [
        "grid3 = sns.jointplot(x = (sum_df[\"CTCF\"]), y = sum_df[\"HM_CTCF_10_1\"],kind =\"reg\")\n",
        "grid3"
      ],
      "execution_count": 114,
      "outputs": [
        {
          "output_type": "stream",
          "text": [
            "/usr/local/lib/python3.6/dist-packages/matplotlib/axes/_axes.py:6521: MatplotlibDeprecationWarning: \n",
            "The 'normed' kwarg was deprecated in Matplotlib 2.1 and will be removed in 3.1. Use 'density' instead.\n",
            "  alternative=\"'density'\", removal=\"3.1\")\n"
          ],
          "name": "stderr"
        },
        {
          "output_type": "execute_result",
          "data": {
            "text/plain": [
              "<seaborn.axisgrid.JointGrid at 0x7f7e3ccaa6a0>"
            ]
          },
          "metadata": {
            "tags": []
          },
          "execution_count": 114
        },
        {
          "output_type": "display_data",
          "data": {
            "image/png": "[encoded data removed]",
            "text/plain": [
              "<Figure size 432x432 with 3 Axes>"
            ]
          },
          "metadata": {
            "tags": []
          }
        }
      ]
    },
    {
      "metadata": {
        "id": "e-4uSqLPaD81",
        "colab_type": "code",
        "colab": {
          "base_uri": "https://localhost:8080/",
          "height": 512
        },
        "outputId": "42a8e3ae-475d-4d97-a33d-853a40eddeaf"
      },
      "cell_type": "code",
      "source": [
        "grid4 = sns.jointplot(x = (sum_df[\"CTCF\"]), y = sum_df[\"HM_CTCF_20_1\"],kind =\"reg\")\n",
        "grid4"
      ],
      "execution_count": 113,
      "outputs": [
        {
          "output_type": "stream",
          "text": [
            "/usr/local/lib/python3.6/dist-packages/matplotlib/axes/_axes.py:6521: MatplotlibDeprecationWarning: \n",
            "The 'normed' kwarg was deprecated in Matplotlib 2.1 and will be removed in 3.1. Use 'density' instead.\n",
            "  alternative=\"'density'\", removal=\"3.1\")\n"
          ],
          "name": "stderr"
        },
        {
          "output_type": "execute_result",
          "data": {
            "text/plain": [
              "<seaborn.axisgrid.JointGrid at 0x7f7e3e935780>"
            ]
          },
          "metadata": {
            "tags": []
          },
          "execution_count": 113
        },
        {
          "output_type": "display_data",
          "data": {
            "image/png": "[encoded data removed]",
            "text/plain": [
              "<Figure size 432x432 with 3 Axes>"
            ]
          },
          "metadata": {
            "tags": []
          }
        }
      ]
    },
    {
      "metadata": {
        "id": "p1y4kJJjbFx8",
        "colab_type": "code",
        "colab": {
          "base_uri": "https://localhost:8080/",
          "height": 493
        },
        "outputId": "33d2bcae-2a8e-447e-b554-eabaf076c6c7"
      },
      "cell_type": "code",
      "source": [
        "#Persan Correlation decreases consistently - very interesting. Try to remove outliers and see what happens.\n",
        "df1 = pd.DataFrame()\n",
        "df2 = pd.DataFrame()\n",
        "df1 = sum_df[sum_df[\"HM_CTCF_20_1\"]!=0]\n",
        "df1 = df1[df1[\"HM_CTCF_20_1\"] < 2000000]\n",
        "#print(df1.shape)\n",
        "#print(sum_df.shape)\n",
        "grid5 = sns.jointplot(x = df1[\"CTCF\"], y = df1[\"HM_CTCF_20_1\"],kind =\"reg\")\n",
        "\n",
        "#Pearson increases.. but not much. Why?? Maybe antibody efficiency"
      ],
      "execution_count": 135,
      "outputs": [
        {
          "output_type": "stream",
          "text": [
            "/usr/local/lib/python3.6/dist-packages/matplotlib/axes/_axes.py:6521: MatplotlibDeprecationWarning: \n",
            "The 'normed' kwarg was deprecated in Matplotlib 2.1 and will be removed in 3.1. Use 'density' instead.\n",
            "  alternative=\"'density'\", removal=\"3.1\")\n"
          ],
          "name": "stderr"
        },
        {
          "output_type": "display_data",
          "data": {
            "image/png": "[encoded data removed]",
            "text/plain": [
              "<Figure size 432x432 with 3 Axes>"
            ]
          },
          "metadata": {
            "tags": []
          }
        }
      ]
    },
    {
      "metadata": {
        "id": "v7Yfkx60_1M_",
        "colab_type": "code",
        "outputId": "11d00da7-5124-4652-a829-9cc06cc4dc0b",
        "colab": {
          "base_uri": "https://localhost:8080/",
          "height": 206
        }
      },
      "cell_type": "code",
      "source": [
        "#Could look at ratios of HM to see if they are constant (would not work, as ratios are different)\n",
        "\n",
        "'''#Subtracting any possible read count contribution from HM in the spike-in experiment\n",
        "HM_CTCF_1_20_rc[\"ReadCounts\"] = HM_CTCF_1_20_rc[\"ReadCounts\"] - HM_rc[\"ReadCounts\"]\n",
        "HM_CTCF_1_10_rc[\"ReadCounts\"] = HM_CTCF_1_10_rc[\"ReadCounts\"]- HM_rc[\"ReadCounts\"]\n",
        "HM_CTCF_1_5_rc[\"ReadCounts\"] = HM_CTCF_1_5_rc[\"ReadCounts\"] - HM_rc[\"ReadCounts\"]\n",
        "HM_CTCF_1_1_rc[\"ReadCounts\"] = HM_CTCF_1_1_rc[\"ReadCounts\"] - HM_rc[\"ReadCounts\"]\n",
        "'''"
      ],
      "execution_count": 0,
      "outputs": [
        {
          "output_type": "execute_result",
          "data": {
            "text/html": [
              "<div>\n",
              "<style scoped>\n",
              "    .dataframe tbody tr th:only-of-type {\n",
              "        vertical-align: middle;\n",
              "    }\n",
              "\n",
              "    .dataframe tbody tr th {\n",
              "        vertical-align: top;\n",
              "    }\n",
              "\n",
              "    .dataframe thead th {\n",
              "        text-align: right;\n",
              "    }\n",
              "</style>\n",
              "<table border=\"1\" class=\"dataframe\">\n",
              "  <thead>\n",
              "    <tr style=\"text-align: right;\">\n",
              "      <th></th>\n",
              "      <th>chr</th>\n",
              "      <th>Start</th>\n",
              "      <th>End</th>\n",
              "      <th>ReadCounts</th>\n",
              "    </tr>\n",
              "  </thead>\n",
              "  <tbody>\n",
              "    <tr>\n",
              "      <th>0</th>\n",
              "      <td>chr1</td>\n",
              "      <td>3325378</td>\n",
              "      <td>3325535</td>\n",
              "      <td>0.000009</td>\n",
              "    </tr>\n",
              "    <tr>\n",
              "      <th>1</th>\n",
              "      <td>chr1</td>\n",
              "      <td>3357207</td>\n",
              "      <td>3357406</td>\n",
              "      <td>0.000012</td>\n",
              "    </tr>\n",
              "    <tr>\n",
              "      <th>2</th>\n",
              "      <td>chr1</td>\n",
              "      <td>3448233</td>\n",
              "      <td>3448424</td>\n",
              "      <td>0.000033</td>\n",
              "    </tr>\n",
              "    <tr>\n",
              "      <th>3</th>\n",
              "      <td>chr1</td>\n",
              "      <td>3611303</td>\n",
              "      <td>3611510</td>\n",
              "      <td>0.000041</td>\n",
              "    </tr>\n",
              "    <tr>\n",
              "      <th>4</th>\n",
              "      <td>chr1</td>\n",
              "      <td>3743891</td>\n",
              "      <td>3744017</td>\n",
              "      <td>0.000009</td>\n",
              "    </tr>\n",
              "  </tbody>\n",
              "</table>\n",
              "</div>"
            ],
            "text/plain": [
              "    chr    Start      End  ReadCounts\n",
              "0  chr1  3325378  3325535    0.000009\n",
              "1  chr1  3357207  3357406    0.000012\n",
              "2  chr1  3448233  3448424    0.000033\n",
              "3  chr1  3611303  3611510    0.000041\n",
              "4  chr1  3743891  3744017    0.000009"
            ]
          },
          "metadata": {
            "tags": []
          },
          "execution_count": 63
        }
      ]
    }
  ]
}