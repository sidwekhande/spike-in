{
  "nbformat": 4,
  "nbformat_minor": 0,
  "metadata": {
    "colab": {
      "name": "Data Analysis of a ChIP-seq spike-in reference",
      "version": "0.3.2",
      "provenance": [],
      "toc_visible": true,
      "include_colab_link": true
    },
    "kernelspec": {
      "name": "python3",
      "display_name": "Python 3"
    }
  },
  "cells": [
    {
      "cell_type": "markdown",
      "metadata": {
        "id": "view-in-github",
        "colab_type": "text"
      },
      "source": [
        "<a href=\"https://colab.research.google.com/github/sidwekhande/spike-in/blob/master/Data_Analysis_of_a_ChIP_seq_spike_in_reference.ipynb\" target=\"_parent\"><img src=\"https://colab.research.google.com/assets/colab-badge.svg\" alt=\"Open In Colab\"/></a>"
      ]
    },
    {
      "metadata": {
        "id": "2-VJb-tudVec",
        "colab_type": "text"
      },
      "cell_type": "markdown",
      "source": [
        "# Data Analysis of a ChIP-seq spike-in \n",
        "\n",
        "\n",
        "---\n",
        "\n",
        "\n",
        "\n",
        "###Background\n",
        "Comparing peak-calls across multiple ChIP-seq experiments testing for different conditions is difficult, primarily because the traditional methods of RPKM, TPKM or other nomralization factors depend on the total read count of the experiment, which can vary across biological experiments. To overcome this problem, Guertin et. al. (2018) suggested using a reference spike-in, i.e., a second antibody that will give a read count proportion that is known to not change across conditions to use it as a reference for how much the first protein (target) changed.\n",
        "\n",
        "<br>\n",
        "\n",
        "---\n",
        "\n",
        "###Goal\n",
        "\n",
        "To test this, we have a set of ChIP-seq experiments that mix H3K27me3 and CTCF antibodies in varying proportions (1:20, 1:10, 1:5, and 1:1). These four experiments can be used to see if we can detect the change in CTCF read count proportion in the same ratio of the antibody proportion. This can assess if the antibody efficiency is consistent, and also serves as a good analysis of how much CTCF we should use for spike-in when testing for H3K7me3 changes across condition.\n",
        "\n",
        "<br>\n",
        "\n"
      ]
    },
    {
      "metadata": {
        "id": "0RAutMabf3SM",
        "colab_type": "text"
      },
      "cell_type": "markdown",
      "source": [
        "## Data Preprocessing\n",
        "\n",
        "---\n",
        "\n",
        "We have five ChIP-seq experiments:\n",
        "\n",
        "\n",
        "1.   H3K27me3:CTCF (1:20)\n",
        "2.   H3K27me3:CTCF (1:10)\n",
        "1.   H3K27me3:CTCF (1:5)\n",
        "2.   H3K27me3:CTCF (1:1)\n",
        "3.   CTCF \n",
        "4.   H3K27me3\n",
        "\n",
        "I aligned the reads using bowtie2 and used MACS2 on Galaxy to call peaks on the pure CTCF experiment [bed file] . This gives us the expected binding location of CTCF in all these experiments. \n",
        "\n",
        "I then used samtools bedcov to get the number of read counts at these positions in all the above experiments.\n",
        "\n",
        "\n",
        "```\n",
        "samtools bedcov [CTCF Peak calls BED] [INPUT BAM1] > [OUTPUT]\n",
        "```\n",
        "\n",
        "\n",
        "\n",
        "\n",
        "\n",
        "\n"
      ]
    },
    {
      "metadata": {
        "id": "aoN7-WX_leZA",
        "colab_type": "code",
        "outputId": "a5da2a31-d59b-4b36-8c71-cbbeedbcfe7d",
        "colab": {
          "base_uri": "https://localhost:8080/",
          "height": 34
        }
      },
      "cell_type": "code",
      "source": [
        "var = open(\"sample_data/README.md\")\n",
        "line = var.readline()\n",
        "line"
      ],
      "execution_count": 0,
      "outputs": [
        {
          "output_type": "execute_result",
          "data": {
            "text/plain": [
              "'This directory includes a few sample datasets to get you started.\\n'"
            ]
          },
          "metadata": {
            "tags": []
          },
          "execution_count": 5
        }
      ]
    }
  ]
}